{
 "cells": [
  {
   "cell_type": "code",
   "execution_count": 61,
   "metadata": {},
   "outputs": [],
   "source": [
    "from sklearn.feature_extraction.text import TfidfVectorizer\n",
    "import pandas as pd\n",
    "import numpy as np\n",
    "import xgboost as xgb\n",
    "from xgboost import XGBClassifier\n",
    "from sklearn.model_selection import train_test_split"
   ]
  },
  {
   "cell_type": "code",
   "execution_count": 3,
   "metadata": {},
   "outputs": [],
   "source": [
    "df = pd.read_csv('nlp_cleaned_reviews.csv')"
   ]
  },
  {
   "cell_type": "code",
   "execution_count": 5,
   "metadata": {},
   "outputs": [],
   "source": [
    "df['sentiment'] = df['rating'].map({1.0: 'Negative', 2.0: 'Negative', 3.0: 'Neutral', 4.0: 'Positive', 5.0: 'Positive'})"
   ]
  },
  {
   "cell_type": "code",
   "execution_count": 7,
   "metadata": {},
   "outputs": [],
   "source": [
    "df = df.drop('Unnamed: 0', axis=1)"
   ]
  },
  {
   "cell_type": "code",
   "execution_count": 11,
   "metadata": {},
   "outputs": [],
   "source": [
    "holdout_df = df[df['sentiment'] == 'Neutral']"
   ]
  },
  {
   "cell_type": "code",
   "execution_count": 42,
   "metadata": {
    "scrolled": true
   },
   "outputs": [
    {
     "name": "stderr",
     "output_type": "stream",
     "text": [
      "/Users/ryankirkland/anaconda3/lib/python3.7/site-packages/pandas/core/indexing.py:966: SettingWithCopyWarning: \n",
      "A value is trying to be set on a copy of a slice from a DataFrame.\n",
      "Try using .loc[row_indexer,col_indexer] = value instead\n",
      "\n",
      "See the caveats in the documentation: https://pandas.pydata.org/pandas-docs/stable/user_guide/indexing.html#returning-a-view-versus-a-copy\n",
      "  self.obj[item] = s\n"
     ]
    },
    {
     "data": {
      "text/plain": [
       "False"
      ]
     },
     "execution_count": 42,
     "metadata": {},
     "output_type": "execute_result"
    }
   ],
   "source": [
    "test_df = df[df['sentiment'] != 'Neutral']\n",
    "test_df.loc[:,'str_desc'] = test_df.loc[:,'str_desc'].fillna('null')\n",
    "test_df['str_desc'].isnull().any()"
   ]
  },
  {
   "cell_type": "code",
   "execution_count": 51,
   "metadata": {},
   "outputs": [],
   "source": [
    "X = test_df['str_desc']\n",
    "y = test_df['rating']"
   ]
  },
  {
   "cell_type": "code",
   "execution_count": 52,
   "metadata": {},
   "outputs": [],
   "source": [
    "tfidf = TfidfVectorizer()\n",
    "vectorized = tfidf.fit_transform(X)"
   ]
  },
  {
   "cell_type": "code",
   "execution_count": 53,
   "metadata": {},
   "outputs": [
    {
     "data": {
      "text/plain": [
       "array([[0., 0., 0., ..., 0., 0., 0.],\n",
       "       [0., 0., 0., ..., 0., 0., 0.],\n",
       "       [0., 0., 0., ..., 0., 0., 0.],\n",
       "       ...,\n",
       "       [0., 0., 0., ..., 0., 0., 0.],\n",
       "       [0., 0., 0., ..., 0., 0., 0.],\n",
       "       [0., 0., 0., ..., 0., 0., 0.]])"
      ]
     },
     "execution_count": 53,
     "metadata": {},
     "output_type": "execute_result"
    }
   ],
   "source": [
    "vectorized.toarray()"
   ]
  },
  {
   "cell_type": "code",
   "execution_count": 54,
   "metadata": {},
   "outputs": [
    {
     "name": "stdout",
     "output_type": "stream",
     "text": [
      "  (0, 2488)\t0.04638674906393227\n",
      "  (0, 1481)\t0.05914728905781805\n",
      "  (0, 7896)\t0.09983443113231168\n",
      "  (0, 3834)\t0.11118320436734135\n",
      "  (0, 1890)\t0.07432892705142874\n",
      "  (0, 4187)\t0.07083673927727326\n",
      "  (0, 3033)\t0.10732996838425193\n",
      "  (0, 7214)\t0.08962626818467803\n",
      "  (0, 1479)\t0.04521957846753405\n",
      "  (0, 889)\t0.08225890490159021\n",
      "  (0, 5865)\t0.05576079289591428\n",
      "  (0, 6229)\t0.060497475013483966\n",
      "  (0, 3794)\t0.08876183422873749\n",
      "  (0, 3054)\t0.0964683061949163\n",
      "  (0, 5558)\t0.042525884333342014\n",
      "  (0, 3048)\t0.10732996838425193\n",
      "  (0, 4189)\t0.08511953295988664\n",
      "  (0, 4996)\t0.07432892705142874\n",
      "  (0, 7809)\t0.11661403546200917\n",
      "  (0, 6739)\t0.07827749494964838\n",
      "  (0, 2036)\t0.11118320436734135\n",
      "  (0, 2775)\t0.06101468512247885\n",
      "  (0, 6284)\t0.06356259677722333\n",
      "  (0, 946)\t0.08278423017443975\n",
      "  (0, 3082)\t0.058432768856211535\n",
      "  :\t:\n",
      "  (4441, 7275)\t0.30379261275303326\n",
      "  (4441, 4113)\t0.28509769731581996\n",
      "  (4441, 4817)\t0.23257726255817063\n",
      "  (4441, 1338)\t0.25305777360938375\n",
      "  (4441, 1578)\t0.5455673426391456\n",
      "  (4441, 2074)\t0.16585967081366523\n",
      "  (4441, 5160)\t0.16367409908276598\n",
      "  (4441, 2001)\t0.17332904049766887\n",
      "  (4441, 4809)\t0.16940412751817024\n",
      "  (4441, 6994)\t0.16020709109079678\n",
      "  (4441, 5415)\t0.2089954386003457\n",
      "  (4441, 5065)\t0.18098126720227783\n",
      "  (4441, 5683)\t0.13951996577441642\n",
      "  (4441, 5335)\t0.19179450408348692\n",
      "  (4441, 3409)\t0.05734284465923856\n",
      "  (4441, 7599)\t0.11913749242023464\n",
      "  (4441, 1186)\t0.10754738614659419\n",
      "  (4441, 7467)\t0.09322441385226869\n",
      "  (4442, 6564)\t0.8155432788916576\n",
      "  (4442, 5250)\t0.49134792832373514\n",
      "  (4442, 3460)\t0.219769033867325\n",
      "  (4442, 1186)\t0.2125275166646432\n",
      "  (4443, 1046)\t0.6814439849381523\n",
      "  (4443, 3460)\t0.3361329717244213\n",
      "  (4443, 1186)\t0.650114390481645\n"
     ]
    }
   ],
   "source": [
    "print(vectorized)"
   ]
  },
  {
   "cell_type": "code",
   "execution_count": 95,
   "metadata": {},
   "outputs": [],
   "source": [
    "dtrain = xgb.DMatrix(vectorized, label=y)\n",
    "param = {'max_depth':2, 'eta':1, 'objective':'multi:softmax'}\n",
    "num_round = 10"
   ]
  },
  {
   "cell_type": "code",
   "execution_count": 107,
   "metadata": {},
   "outputs": [
    {
     "name": "stdout",
     "output_type": "stream",
     "text": [
      "running cross validation, with customized loss function\n"
     ]
    },
    {
     "data": {
      "text/html": [
       "<div>\n",
       "<style scoped>\n",
       "    .dataframe tbody tr th:only-of-type {\n",
       "        vertical-align: middle;\n",
       "    }\n",
       "\n",
       "    .dataframe tbody tr th {\n",
       "        vertical-align: top;\n",
       "    }\n",
       "\n",
       "    .dataframe thead th {\n",
       "        text-align: right;\n",
       "    }\n",
       "</style>\n",
       "<table border=\"1\" class=\"dataframe\">\n",
       "  <thead>\n",
       "    <tr style=\"text-align: right;\">\n",
       "      <th></th>\n",
       "      <th>train-rmse-mean</th>\n",
       "      <th>train-rmse-std</th>\n",
       "      <th>test-rmse-mean</th>\n",
       "      <th>test-rmse-std</th>\n",
       "      <th>train-error-mean</th>\n",
       "      <th>train-error-std</th>\n",
       "      <th>test-error-mean</th>\n",
       "      <th>test-error-std</th>\n",
       "    </tr>\n",
       "  </thead>\n",
       "  <tbody>\n",
       "    <tr>\n",
       "      <th>0</th>\n",
       "      <td>11.422997</td>\n",
       "      <td>0.027566</td>\n",
       "      <td>11.429634</td>\n",
       "      <td>0.091457</td>\n",
       "      <td>0.84856</td>\n",
       "      <td>0.003028</td>\n",
       "      <td>0.848563</td>\n",
       "      <td>0.012112</td>\n",
       "    </tr>\n",
       "    <tr>\n",
       "      <th>1</th>\n",
       "      <td>10532.280664</td>\n",
       "      <td>302.530968</td>\n",
       "      <td>10532.285938</td>\n",
       "      <td>302.526947</td>\n",
       "      <td>0.84856</td>\n",
       "      <td>0.003028</td>\n",
       "      <td>0.848563</td>\n",
       "      <td>0.012112</td>\n",
       "    </tr>\n",
       "    <tr>\n",
       "      <th>2</th>\n",
       "      <td>21619.481641</td>\n",
       "      <td>331.803524</td>\n",
       "      <td>21619.483594</td>\n",
       "      <td>331.800637</td>\n",
       "      <td>0.84856</td>\n",
       "      <td>0.003028</td>\n",
       "      <td>0.848563</td>\n",
       "      <td>0.012112</td>\n",
       "    </tr>\n",
       "    <tr>\n",
       "      <th>3</th>\n",
       "      <td>32706.687891</td>\n",
       "      <td>361.796223</td>\n",
       "      <td>32706.684375</td>\n",
       "      <td>361.792322</td>\n",
       "      <td>0.84856</td>\n",
       "      <td>0.003028</td>\n",
       "      <td>0.848563</td>\n",
       "      <td>0.012112</td>\n",
       "    </tr>\n",
       "    <tr>\n",
       "      <th>4</th>\n",
       "      <td>43793.874219</td>\n",
       "      <td>392.329649</td>\n",
       "      <td>43793.884375</td>\n",
       "      <td>392.336428</td>\n",
       "      <td>0.84856</td>\n",
       "      <td>0.003028</td>\n",
       "      <td>0.848563</td>\n",
       "      <td>0.012112</td>\n",
       "    </tr>\n",
       "    <tr>\n",
       "      <th>5</th>\n",
       "      <td>54881.078906</td>\n",
       "      <td>423.311527</td>\n",
       "      <td>54881.081250</td>\n",
       "      <td>423.315144</td>\n",
       "      <td>0.84856</td>\n",
       "      <td>0.003028</td>\n",
       "      <td>0.848563</td>\n",
       "      <td>0.012112</td>\n",
       "    </tr>\n",
       "    <tr>\n",
       "      <th>6</th>\n",
       "      <td>65968.267187</td>\n",
       "      <td>454.614474</td>\n",
       "      <td>65968.290625</td>\n",
       "      <td>454.641139</td>\n",
       "      <td>0.84856</td>\n",
       "      <td>0.003028</td>\n",
       "      <td>0.848563</td>\n",
       "      <td>0.012112</td>\n",
       "    </tr>\n",
       "    <tr>\n",
       "      <th>7</th>\n",
       "      <td>77055.450000</td>\n",
       "      <td>486.217791</td>\n",
       "      <td>77055.489062</td>\n",
       "      <td>486.242672</td>\n",
       "      <td>0.84856</td>\n",
       "      <td>0.003028</td>\n",
       "      <td>0.848563</td>\n",
       "      <td>0.012112</td>\n",
       "    </tr>\n",
       "    <tr>\n",
       "      <th>8</th>\n",
       "      <td>88142.693750</td>\n",
       "      <td>518.087922</td>\n",
       "      <td>88142.681250</td>\n",
       "      <td>518.071384</td>\n",
       "      <td>0.84856</td>\n",
       "      <td>0.003028</td>\n",
       "      <td>0.848563</td>\n",
       "      <td>0.012112</td>\n",
       "    </tr>\n",
       "    <tr>\n",
       "      <th>9</th>\n",
       "      <td>99229.912500</td>\n",
       "      <td>550.065062</td>\n",
       "      <td>99229.876563</td>\n",
       "      <td>550.097905</td>\n",
       "      <td>0.84856</td>\n",
       "      <td>0.003028</td>\n",
       "      <td>0.848563</td>\n",
       "      <td>0.012112</td>\n",
       "    </tr>\n",
       "  </tbody>\n",
       "</table>\n",
       "</div>"
      ],
      "text/plain": [
       "   train-rmse-mean  train-rmse-std  test-rmse-mean  test-rmse-std  \\\n",
       "0        11.422997        0.027566       11.429634       0.091457   \n",
       "1     10532.280664      302.530968    10532.285938     302.526947   \n",
       "2     21619.481641      331.803524    21619.483594     331.800637   \n",
       "3     32706.687891      361.796223    32706.684375     361.792322   \n",
       "4     43793.874219      392.329649    43793.884375     392.336428   \n",
       "5     54881.078906      423.311527    54881.081250     423.315144   \n",
       "6     65968.267187      454.614474    65968.290625     454.641139   \n",
       "7     77055.450000      486.217791    77055.489062     486.242672   \n",
       "8     88142.693750      518.087922    88142.681250     518.071384   \n",
       "9     99229.912500      550.065062    99229.876563     550.097905   \n",
       "\n",
       "   train-error-mean  train-error-std  test-error-mean  test-error-std  \n",
       "0           0.84856         0.003028         0.848563        0.012112  \n",
       "1           0.84856         0.003028         0.848563        0.012112  \n",
       "2           0.84856         0.003028         0.848563        0.012112  \n",
       "3           0.84856         0.003028         0.848563        0.012112  \n",
       "4           0.84856         0.003028         0.848563        0.012112  \n",
       "5           0.84856         0.003028         0.848563        0.012112  \n",
       "6           0.84856         0.003028         0.848563        0.012112  \n",
       "7           0.84856         0.003028         0.848563        0.012112  \n",
       "8           0.84856         0.003028         0.848563        0.012112  \n",
       "9           0.84856         0.003028         0.848563        0.012112  "
      ]
     },
     "execution_count": 107,
     "metadata": {},
     "output_type": "execute_result"
    }
   ],
   "source": [
    "print('running cross validation, with customized loss function')\n",
    "def logregobj(preds, dtrain):\n",
    "    labels = dtrain.get_label()\n",
    "    preds = 1.0 / (1.0 + np.exp(-preds))\n",
    "    grad = preds - labels\n",
    "    hess = preds * (1.0 - preds)\n",
    "    return grad, hess\n",
    "def evalerror(preds, dtrain):\n",
    "    labels = dtrain.get_label()\n",
    "    return 'error', float(sum(labels != (preds > 0.0))) / len(labels)\n",
    "\n",
    "param = {'max_depth':2, 'eta':1}\n",
    "# train with customized objective\n",
    "xgb.cv(param, dtrain, num_round, nfold=5, seed=0,\n",
    "       obj=logregobj, feval=evalerror)"
   ]
  },
  {
   "cell_type": "code",
   "execution_count": 108,
   "metadata": {},
   "outputs": [
    {
     "data": {
      "text/html": [
       "<div>\n",
       "<style scoped>\n",
       "    .dataframe tbody tr th:only-of-type {\n",
       "        vertical-align: middle;\n",
       "    }\n",
       "\n",
       "    .dataframe tbody tr th {\n",
       "        vertical-align: top;\n",
       "    }\n",
       "\n",
       "    .dataframe thead th {\n",
       "        text-align: right;\n",
       "    }\n",
       "</style>\n",
       "<table border=\"1\" class=\"dataframe\">\n",
       "  <thead>\n",
       "    <tr style=\"text-align: right;\">\n",
       "      <th></th>\n",
       "      <th>train-rmse-mean</th>\n",
       "      <th>train-rmse-std</th>\n",
       "      <th>test-rmse-mean</th>\n",
       "      <th>test-rmse-std</th>\n",
       "    </tr>\n",
       "  </thead>\n",
       "  <tbody>\n",
       "    <tr>\n",
       "      <th>0</th>\n",
       "      <td>1.400561</td>\n",
       "      <td>0.002416</td>\n",
       "      <td>1.413125</td>\n",
       "      <td>0.004165</td>\n",
       "    </tr>\n",
       "    <tr>\n",
       "      <th>1</th>\n",
       "      <td>1.349563</td>\n",
       "      <td>0.000726</td>\n",
       "      <td>1.395075</td>\n",
       "      <td>0.002494</td>\n",
       "    </tr>\n",
       "    <tr>\n",
       "      <th>2</th>\n",
       "      <td>1.308287</td>\n",
       "      <td>0.003116</td>\n",
       "      <td>1.365838</td>\n",
       "      <td>0.006108</td>\n",
       "    </tr>\n",
       "    <tr>\n",
       "      <th>3</th>\n",
       "      <td>1.271790</td>\n",
       "      <td>0.001926</td>\n",
       "      <td>1.338711</td>\n",
       "      <td>0.011132</td>\n",
       "    </tr>\n",
       "    <tr>\n",
       "      <th>4</th>\n",
       "      <td>1.244128</td>\n",
       "      <td>0.000500</td>\n",
       "      <td>1.315528</td>\n",
       "      <td>0.006490</td>\n",
       "    </tr>\n",
       "    <tr>\n",
       "      <th>5</th>\n",
       "      <td>1.218859</td>\n",
       "      <td>0.000909</td>\n",
       "      <td>1.299603</td>\n",
       "      <td>0.011441</td>\n",
       "    </tr>\n",
       "    <tr>\n",
       "      <th>6</th>\n",
       "      <td>1.197934</td>\n",
       "      <td>0.001792</td>\n",
       "      <td>1.291522</td>\n",
       "      <td>0.014722</td>\n",
       "    </tr>\n",
       "    <tr>\n",
       "      <th>7</th>\n",
       "      <td>1.178262</td>\n",
       "      <td>0.002372</td>\n",
       "      <td>1.281816</td>\n",
       "      <td>0.021300</td>\n",
       "    </tr>\n",
       "    <tr>\n",
       "      <th>8</th>\n",
       "      <td>1.160784</td>\n",
       "      <td>0.004115</td>\n",
       "      <td>1.277687</td>\n",
       "      <td>0.019407</td>\n",
       "    </tr>\n",
       "    <tr>\n",
       "      <th>9</th>\n",
       "      <td>1.145388</td>\n",
       "      <td>0.004810</td>\n",
       "      <td>1.272535</td>\n",
       "      <td>0.011766</td>\n",
       "    </tr>\n",
       "  </tbody>\n",
       "</table>\n",
       "</div>"
      ],
      "text/plain": [
       "   train-rmse-mean  train-rmse-std  test-rmse-mean  test-rmse-std\n",
       "0         1.400561        0.002416        1.413125       0.004165\n",
       "1         1.349563        0.000726        1.395075       0.002494\n",
       "2         1.308287        0.003116        1.365838       0.006108\n",
       "3         1.271790        0.001926        1.338711       0.011132\n",
       "4         1.244128        0.000500        1.315528       0.006490\n",
       "5         1.218859        0.000909        1.299603       0.011441\n",
       "6         1.197934        0.001792        1.291522       0.014722\n",
       "7         1.178262        0.002372        1.281816       0.021300\n",
       "8         1.160784        0.004115        1.277687       0.019407\n",
       "9         1.145388        0.004810        1.272535       0.011766"
      ]
     },
     "execution_count": 108,
     "metadata": {},
     "output_type": "execute_result"
    }
   ],
   "source": [
    "xgb.cv(param, dtrain, num_round)"
   ]
  },
  {
   "cell_type": "code",
   "execution_count": 89,
   "metadata": {},
   "outputs": [],
   "source": [
    "from sklearn.feature_extraction.text import TfidfVectorizer\n",
    "from sklearn.base import BaseEstimator\n",
    "from sklearn.pipeline import Pipeline\n",
    "from sklearn.model_selection import cross_val_score\n",
    "from sklearn.ensemble import RandomForestClassifier\n",
    "\n",
    "class Text2TfIdfTransformer(BaseEstimator):\n",
    "\n",
    "    def __init__(self):\n",
    "        self._model = TfidfVectorizer()\n",
    "        pass\n",
    "\n",
    "    def fit(self, df_x, df_y=None):\n",
    "        self._model.fit(df_x)\n",
    "        return self\n",
    "\n",
    "    def transform(self, df_x):\n",
    "        return self._model.transform(df_x)"
   ]
  },
  {
   "cell_type": "code",
   "execution_count": 109,
   "metadata": {},
   "outputs": [
    {
     "name": "stdout",
     "output_type": "stream",
     "text": [
      "Accuracy for Tf-Idf & XGBoost Classifier :  0.7662048156142645 [0.75028121 0.76602925 0.77052868 0.76377953 0.78040541]\n"
     ]
    }
   ],
   "source": [
    "pl_xgb_tf_idf = Pipeline(steps=[('tfidf',Text2TfIdfTransformer()),\n",
    "                         ('xgboost', xgb.XGBClassifier(objective='multi:softmax'))])\n",
    "scores = cross_val_score(pl_xgb_tf_idf, X, y, cv=5)\n",
    "print('Accuracy for Tf-Idf & XGBoost Classifier : ', scores.mean(), scores)"
   ]
  },
  {
   "cell_type": "code",
   "execution_count": 91,
   "metadata": {},
   "outputs": [
    {
     "name": "stdout",
     "output_type": "stream",
     "text": [
      "Accuracy for Tf-Idf & RandomForest :  0.7574276188449417\n"
     ]
    }
   ],
   "source": [
    "pl_random_forest_tf_idf = Pipeline(steps=[('tfidf',Text2TfIdfTransformer()),\n",
    "                                   ('random_forest', RandomForestClassifier())])\n",
    "scores = cross_val_score(pl_random_forest_tf_idf, X, y, cv=5,scoring='accuracy')\n",
    "print('Accuracy for Tf-Idf & RandomForest : ', scores.mean())"
   ]
  },
  {
   "cell_type": "code",
   "execution_count": 142,
   "metadata": {},
   "outputs": [],
   "source": [
    "y_labeled = test_df['sentiment']\n",
    "\n",
    "X_train, X_test, y_train, y_test = train_test_split(vectorized, y_labeled)"
   ]
  },
  {
   "cell_type": "code",
   "execution_count": 143,
   "metadata": {},
   "outputs": [],
   "source": [
    "from sklearn.ensemble import RandomForestClassifier\n",
    "\n",
    "rf = RandomForestClassifier()"
   ]
  },
  {
   "cell_type": "code",
   "execution_count": 144,
   "metadata": {},
   "outputs": [
    {
     "data": {
      "text/plain": [
       "RandomForestClassifier()"
      ]
     },
     "execution_count": 144,
     "metadata": {},
     "output_type": "execute_result"
    }
   ],
   "source": [
    "rf.fit(X_train, y_train)"
   ]
  },
  {
   "cell_type": "code",
   "execution_count": 145,
   "metadata": {},
   "outputs": [],
   "source": [
    "y_pred_proba = rf.predict_proba(X_test)\n",
    "y_pred = rf.predict(X_test)"
   ]
  },
  {
   "cell_type": "code",
   "execution_count": 151,
   "metadata": {},
   "outputs": [
    {
     "data": {
      "text/plain": [
       "array(['Positive', 'Positive', 'Positive', ..., 'Positive', 'Positive',\n",
       "       'Positive'], dtype=object)"
      ]
     },
     "execution_count": 151,
     "metadata": {},
     "output_type": "execute_result"
    }
   ],
   "source": [
    "y_pred_proba\n",
    "y_pred"
   ]
  },
  {
   "cell_type": "code",
   "execution_count": 159,
   "metadata": {},
   "outputs": [
    {
     "data": {
      "text/plain": [
       "0.8640864086408641"
      ]
     },
     "execution_count": 159,
     "metadata": {},
     "output_type": "execute_result"
    }
   ],
   "source": [
    "rf.score(X_test, y_test)"
   ]
  },
  {
   "cell_type": "code",
   "execution_count": 148,
   "metadata": {},
   "outputs": [],
   "source": [
    "from sklearn.metrics import confusion_matrix, precision_score, recall_score"
   ]
  },
  {
   "cell_type": "code",
   "execution_count": 149,
   "metadata": {},
   "outputs": [
    {
     "data": {
      "text/plain": [
       "array([[862,   7],\n",
       "       [144,  98]])"
      ]
     },
     "execution_count": 149,
     "metadata": {},
     "output_type": "execute_result"
    }
   ],
   "source": [
    "confusion_matrix(y_test, y_pred, labels=['Positive', 'Negative'])"
   ]
  },
  {
   "cell_type": "code",
   "execution_count": 154,
   "metadata": {},
   "outputs": [],
   "source": [
    "feature_importances = np.argsort(rf.feature_importances_)"
   ]
  },
  {
   "cell_type": "code",
   "execution_count": 187,
   "metadata": {},
   "outputs": [
    {
     "data": {
      "image/png": "[encoded data removed]",
      "text/plain": [
       "<Figure size 720x720 with 1 Axes>"
      ]
     },
     "metadata": {
      "needs_background": "light"
     },
     "output_type": "display_data"
    }
   ],
   "source": [
    "import matplotlib.pyplot as plt\n",
    "\n",
    "fig, ax = plt.subplots(figsize=(10,10))\n",
    "ax.barh(vect_df.columns[feature_importances][-20:-1], rf.feature_importances_[feature_importances][-20:-1]);"
   ]
  },
  {
   "cell_type": "code",
   "execution_count": 162,
   "metadata": {},
   "outputs": [
    {
     "data": {
      "text/plain": [
       "MultinomialNB()"
      ]
     },
     "execution_count": 162,
     "metadata": {},
     "output_type": "execute_result"
    }
   ],
   "source": [
    "from sklearn.naive_bayes import MultinomialNB\n",
    "\n",
    "clf_nb = MultinomialNB()\n",
    "clf_nb.fit(X_train, y_train)"
   ]
  },
  {
   "cell_type": "code",
   "execution_count": 163,
   "metadata": {},
   "outputs": [
    {
     "data": {
      "text/plain": [
       "array(['Positive', 'Positive', 'Positive', ..., 'Positive', 'Positive',\n",
       "       'Positive'], dtype='<U8')"
      ]
     },
     "execution_count": 163,
     "metadata": {},
     "output_type": "execute_result"
    }
   ],
   "source": [
    "clf_nb.predict(X_test)"
   ]
  },
  {
   "cell_type": "code",
   "execution_count": 164,
   "metadata": {},
   "outputs": [
    {
     "data": {
      "text/plain": [
       "0.7893789378937894"
      ]
     },
     "execution_count": 164,
     "metadata": {},
     "output_type": "execute_result"
    }
   ],
   "source": [
    "clf_nb.score(X_test, y_test)"
   ]
  },
  {
   "cell_type": "code",
   "execution_count": 167,
   "metadata": {},
   "outputs": [
    {
     "data": {
      "text/plain": [
       "7918"
      ]
     },
     "execution_count": 167,
     "metadata": {},
     "output_type": "execute_result"
    }
   ],
   "source": [
    "len(tfidf.get_feature_names())"
   ]
  },
  {
   "cell_type": "code",
   "execution_count": 172,
   "metadata": {},
   "outputs": [],
   "source": [
    "vect_df = pd.DataFrame(vectorized.toarray(), columns=tfidf.get_feature_names())"
   ]
  },
  {
   "cell_type": "code",
   "execution_count": 173,
   "metadata": {},
   "outputs": [
    {
     "data": {
      "text/html": [
       "<div>\n",
       "<style scoped>\n",
       "    .dataframe tbody tr th:only-of-type {\n",
       "        vertical-align: middle;\n",
       "    }\n",
       "\n",
       "    .dataframe tbody tr th {\n",
       "        vertical-align: top;\n",
       "    }\n",
       "\n",
       "    .dataframe thead th {\n",
       "        text-align: right;\n",
       "    }\n",
       "</style>\n",
       "<table border=\"1\" class=\"dataframe\">\n",
       "  <thead>\n",
       "    <tr style=\"text-align: right;\">\n",
       "      <th></th>\n",
       "      <th>00</th>\n",
       "      <th>010</th>\n",
       "      <th>011</th>\n",
       "      <th>02</th>\n",
       "      <th>02mm</th>\n",
       "      <th>036a</th>\n",
       "      <th>0399</th>\n",
       "      <th>03v</th>\n",
       "      <th>0403</th>\n",
       "      <th>0405</th>\n",
       "      <th>...</th>\n",
       "      <th>zapper</th>\n",
       "      <th>zero</th>\n",
       "      <th>zeropower</th>\n",
       "      <th>zillion</th>\n",
       "      <th>zinc</th>\n",
       "      <th>zombie</th>\n",
       "      <th>zoom</th>\n",
       "      <th>zwave</th>\n",
       "      <th>éste</th>\n",
       "      <th>útiles</th>\n",
       "    </tr>\n",
       "  </thead>\n",
       "  <tbody>\n",
       "    <tr>\n",
       "      <th>0</th>\n",
       "      <td>0.0</td>\n",
       "      <td>0.0</td>\n",
       "      <td>0.0</td>\n",
       "      <td>0.0</td>\n",
       "      <td>0.0</td>\n",
       "      <td>0.0</td>\n",
       "      <td>0.0</td>\n",
       "      <td>0.0</td>\n",
       "      <td>0.0</td>\n",
       "      <td>0.0</td>\n",
       "      <td>...</td>\n",
       "      <td>0.0</td>\n",
       "      <td>0.0</td>\n",
       "      <td>0.0</td>\n",
       "      <td>0.0</td>\n",
       "      <td>0.0</td>\n",
       "      <td>0.0</td>\n",
       "      <td>0.0</td>\n",
       "      <td>0.0</td>\n",
       "      <td>0.0</td>\n",
       "      <td>0.0</td>\n",
       "    </tr>\n",
       "    <tr>\n",
       "      <th>1</th>\n",
       "      <td>0.0</td>\n",
       "      <td>0.0</td>\n",
       "      <td>0.0</td>\n",
       "      <td>0.0</td>\n",
       "      <td>0.0</td>\n",
       "      <td>0.0</td>\n",
       "      <td>0.0</td>\n",
       "      <td>0.0</td>\n",
       "      <td>0.0</td>\n",
       "      <td>0.0</td>\n",
       "      <td>...</td>\n",
       "      <td>0.0</td>\n",
       "      <td>0.0</td>\n",
       "      <td>0.0</td>\n",
       "      <td>0.0</td>\n",
       "      <td>0.0</td>\n",
       "      <td>0.0</td>\n",
       "      <td>0.0</td>\n",
       "      <td>0.0</td>\n",
       "      <td>0.0</td>\n",
       "      <td>0.0</td>\n",
       "    </tr>\n",
       "    <tr>\n",
       "      <th>2</th>\n",
       "      <td>0.0</td>\n",
       "      <td>0.0</td>\n",
       "      <td>0.0</td>\n",
       "      <td>0.0</td>\n",
       "      <td>0.0</td>\n",
       "      <td>0.0</td>\n",
       "      <td>0.0</td>\n",
       "      <td>0.0</td>\n",
       "      <td>0.0</td>\n",
       "      <td>0.0</td>\n",
       "      <td>...</td>\n",
       "      <td>0.0</td>\n",
       "      <td>0.0</td>\n",
       "      <td>0.0</td>\n",
       "      <td>0.0</td>\n",
       "      <td>0.0</td>\n",
       "      <td>0.0</td>\n",
       "      <td>0.0</td>\n",
       "      <td>0.0</td>\n",
       "      <td>0.0</td>\n",
       "      <td>0.0</td>\n",
       "    </tr>\n",
       "    <tr>\n",
       "      <th>3</th>\n",
       "      <td>0.0</td>\n",
       "      <td>0.0</td>\n",
       "      <td>0.0</td>\n",
       "      <td>0.0</td>\n",
       "      <td>0.0</td>\n",
       "      <td>0.0</td>\n",
       "      <td>0.0</td>\n",
       "      <td>0.0</td>\n",
       "      <td>0.0</td>\n",
       "      <td>0.0</td>\n",
       "      <td>...</td>\n",
       "      <td>0.0</td>\n",
       "      <td>0.0</td>\n",
       "      <td>0.0</td>\n",
       "      <td>0.0</td>\n",
       "      <td>0.0</td>\n",
       "      <td>0.0</td>\n",
       "      <td>0.0</td>\n",
       "      <td>0.0</td>\n",
       "      <td>0.0</td>\n",
       "      <td>0.0</td>\n",
       "    </tr>\n",
       "    <tr>\n",
       "      <th>4</th>\n",
       "      <td>0.0</td>\n",
       "      <td>0.0</td>\n",
       "      <td>0.0</td>\n",
       "      <td>0.0</td>\n",
       "      <td>0.0</td>\n",
       "      <td>0.0</td>\n",
       "      <td>0.0</td>\n",
       "      <td>0.0</td>\n",
       "      <td>0.0</td>\n",
       "      <td>0.0</td>\n",
       "      <td>...</td>\n",
       "      <td>0.0</td>\n",
       "      <td>0.0</td>\n",
       "      <td>0.0</td>\n",
       "      <td>0.0</td>\n",
       "      <td>0.0</td>\n",
       "      <td>0.0</td>\n",
       "      <td>0.0</td>\n",
       "      <td>0.0</td>\n",
       "      <td>0.0</td>\n",
       "      <td>0.0</td>\n",
       "    </tr>\n",
       "    <tr>\n",
       "      <th>...</th>\n",
       "      <td>...</td>\n",
       "      <td>...</td>\n",
       "      <td>...</td>\n",
       "      <td>...</td>\n",
       "      <td>...</td>\n",
       "      <td>...</td>\n",
       "      <td>...</td>\n",
       "      <td>...</td>\n",
       "      <td>...</td>\n",
       "      <td>...</td>\n",
       "      <td>...</td>\n",
       "      <td>...</td>\n",
       "      <td>...</td>\n",
       "      <td>...</td>\n",
       "      <td>...</td>\n",
       "      <td>...</td>\n",
       "      <td>...</td>\n",
       "      <td>...</td>\n",
       "      <td>...</td>\n",
       "      <td>...</td>\n",
       "      <td>...</td>\n",
       "    </tr>\n",
       "    <tr>\n",
       "      <th>4439</th>\n",
       "      <td>0.0</td>\n",
       "      <td>0.0</td>\n",
       "      <td>0.0</td>\n",
       "      <td>0.0</td>\n",
       "      <td>0.0</td>\n",
       "      <td>0.0</td>\n",
       "      <td>0.0</td>\n",
       "      <td>0.0</td>\n",
       "      <td>0.0</td>\n",
       "      <td>0.0</td>\n",
       "      <td>...</td>\n",
       "      <td>0.0</td>\n",
       "      <td>0.0</td>\n",
       "      <td>0.0</td>\n",
       "      <td>0.0</td>\n",
       "      <td>0.0</td>\n",
       "      <td>0.0</td>\n",
       "      <td>0.0</td>\n",
       "      <td>0.0</td>\n",
       "      <td>0.0</td>\n",
       "      <td>0.0</td>\n",
       "    </tr>\n",
       "    <tr>\n",
       "      <th>4440</th>\n",
       "      <td>0.0</td>\n",
       "      <td>0.0</td>\n",
       "      <td>0.0</td>\n",
       "      <td>0.0</td>\n",
       "      <td>0.0</td>\n",
       "      <td>0.0</td>\n",
       "      <td>0.0</td>\n",
       "      <td>0.0</td>\n",
       "      <td>0.0</td>\n",
       "      <td>0.0</td>\n",
       "      <td>...</td>\n",
       "      <td>0.0</td>\n",
       "      <td>0.0</td>\n",
       "      <td>0.0</td>\n",
       "      <td>0.0</td>\n",
       "      <td>0.0</td>\n",
       "      <td>0.0</td>\n",
       "      <td>0.0</td>\n",
       "      <td>0.0</td>\n",
       "      <td>0.0</td>\n",
       "      <td>0.0</td>\n",
       "    </tr>\n",
       "    <tr>\n",
       "      <th>4441</th>\n",
       "      <td>0.0</td>\n",
       "      <td>0.0</td>\n",
       "      <td>0.0</td>\n",
       "      <td>0.0</td>\n",
       "      <td>0.0</td>\n",
       "      <td>0.0</td>\n",
       "      <td>0.0</td>\n",
       "      <td>0.0</td>\n",
       "      <td>0.0</td>\n",
       "      <td>0.0</td>\n",
       "      <td>...</td>\n",
       "      <td>0.0</td>\n",
       "      <td>0.0</td>\n",
       "      <td>0.0</td>\n",
       "      <td>0.0</td>\n",
       "      <td>0.0</td>\n",
       "      <td>0.0</td>\n",
       "      <td>0.0</td>\n",
       "      <td>0.0</td>\n",
       "      <td>0.0</td>\n",
       "      <td>0.0</td>\n",
       "    </tr>\n",
       "    <tr>\n",
       "      <th>4442</th>\n",
       "      <td>0.0</td>\n",
       "      <td>0.0</td>\n",
       "      <td>0.0</td>\n",
       "      <td>0.0</td>\n",
       "      <td>0.0</td>\n",
       "      <td>0.0</td>\n",
       "      <td>0.0</td>\n",
       "      <td>0.0</td>\n",
       "      <td>0.0</td>\n",
       "      <td>0.0</td>\n",
       "      <td>...</td>\n",
       "      <td>0.0</td>\n",
       "      <td>0.0</td>\n",
       "      <td>0.0</td>\n",
       "      <td>0.0</td>\n",
       "      <td>0.0</td>\n",
       "      <td>0.0</td>\n",
       "      <td>0.0</td>\n",
       "      <td>0.0</td>\n",
       "      <td>0.0</td>\n",
       "      <td>0.0</td>\n",
       "    </tr>\n",
       "    <tr>\n",
       "      <th>4443</th>\n",
       "      <td>0.0</td>\n",
       "      <td>0.0</td>\n",
       "      <td>0.0</td>\n",
       "      <td>0.0</td>\n",
       "      <td>0.0</td>\n",
       "      <td>0.0</td>\n",
       "      <td>0.0</td>\n",
       "      <td>0.0</td>\n",
       "      <td>0.0</td>\n",
       "      <td>0.0</td>\n",
       "      <td>...</td>\n",
       "      <td>0.0</td>\n",
       "      <td>0.0</td>\n",
       "      <td>0.0</td>\n",
       "      <td>0.0</td>\n",
       "      <td>0.0</td>\n",
       "      <td>0.0</td>\n",
       "      <td>0.0</td>\n",
       "      <td>0.0</td>\n",
       "      <td>0.0</td>\n",
       "      <td>0.0</td>\n",
       "    </tr>\n",
       "  </tbody>\n",
       "</table>\n",
       "<p>4444 rows × 7918 columns</p>\n",
       "</div>"
      ],
      "text/plain": [
       "       00  010  011   02  02mm  036a  0399  03v  0403  0405  ...  zapper  \\\n",
       "0     0.0  0.0  0.0  0.0   0.0   0.0   0.0  0.0   0.0   0.0  ...     0.0   \n",
       "1     0.0  0.0  0.0  0.0   0.0   0.0   0.0  0.0   0.0   0.0  ...     0.0   \n",
       "2     0.0  0.0  0.0  0.0   0.0   0.0   0.0  0.0   0.0   0.0  ...     0.0   \n",
       "3     0.0  0.0  0.0  0.0   0.0   0.0   0.0  0.0   0.0   0.0  ...     0.0   \n",
       "4     0.0  0.0  0.0  0.0   0.0   0.0   0.0  0.0   0.0   0.0  ...     0.0   \n",
       "...   ...  ...  ...  ...   ...   ...   ...  ...   ...   ...  ...     ...   \n",
       "4439  0.0  0.0  0.0  0.0   0.0   0.0   0.0  0.0   0.0   0.0  ...     0.0   \n",
       "4440  0.0  0.0  0.0  0.0   0.0   0.0   0.0  0.0   0.0   0.0  ...     0.0   \n",
       "4441  0.0  0.0  0.0  0.0   0.0   0.0   0.0  0.0   0.0   0.0  ...     0.0   \n",
       "4442  0.0  0.0  0.0  0.0   0.0   0.0   0.0  0.0   0.0   0.0  ...     0.0   \n",
       "4443  0.0  0.0  0.0  0.0   0.0   0.0   0.0  0.0   0.0   0.0  ...     0.0   \n",
       "\n",
       "      zero  zeropower  zillion  zinc  zombie  zoom  zwave  éste  útiles  \n",
       "0      0.0        0.0      0.0   0.0     0.0   0.0    0.0   0.0     0.0  \n",
       "1      0.0        0.0      0.0   0.0     0.0   0.0    0.0   0.0     0.0  \n",
       "2      0.0        0.0      0.0   0.0     0.0   0.0    0.0   0.0     0.0  \n",
       "3      0.0        0.0      0.0   0.0     0.0   0.0    0.0   0.0     0.0  \n",
       "4      0.0        0.0      0.0   0.0     0.0   0.0    0.0   0.0     0.0  \n",
       "...    ...        ...      ...   ...     ...   ...    ...   ...     ...  \n",
       "4439   0.0        0.0      0.0   0.0     0.0   0.0    0.0   0.0     0.0  \n",
       "4440   0.0        0.0      0.0   0.0     0.0   0.0    0.0   0.0     0.0  \n",
       "4441   0.0        0.0      0.0   0.0     0.0   0.0    0.0   0.0     0.0  \n",
       "4442   0.0        0.0      0.0   0.0     0.0   0.0    0.0   0.0     0.0  \n",
       "4443   0.0        0.0      0.0   0.0     0.0   0.0    0.0   0.0     0.0  \n",
       "\n",
       "[4444 rows x 7918 columns]"
      ]
     },
     "execution_count": 173,
     "metadata": {},
     "output_type": "execute_result"
    }
   ],
   "source": [
    "vect_df"
   ]
  },
  {
   "cell_type": "code",
   "execution_count": 176,
   "metadata": {},
   "outputs": [
    {
     "data": {
      "text/plain": [
       "Index(['sluggish', 'fiddled', 'field', 'fierce', 'fifteen', 'rifle',\n",
       "       'rewriting', 'rewrite', 'filled', 'fillin',\n",
       "       ...\n",
       "       'wont', 'bad', 'disappointed', 'battery', 'good', 'dead', 'dont',\n",
       "       'hold', 'charge', 'great'],\n",
       "      dtype='object', length=7918)"
      ]
     },
     "execution_count": 176,
     "metadata": {},
     "output_type": "execute_result"
    }
   ],
   "source": []
  },
  {
   "cell_type": "code",
   "execution_count": null,
   "metadata": {},
   "outputs": [],
   "source": []
  }
 ],
 "metadata": {
  "kernelspec": {
   "display_name": "Python 3",
   "language": "python",
   "name": "python3"
  },
  "language_info": {
   "codemirror_mode": {
    "name": "ipython",
    "version": 3
   },
   "file_extension": ".py",
   "mimetype": "text/x-python",
   "name": "python",
   "nbconvert_exporter": "python",
   "pygments_lexer": "ipython3",
   "version": "3.7.3"
  }
 },
 "nbformat": 4,
 "nbformat_minor": 2
}
