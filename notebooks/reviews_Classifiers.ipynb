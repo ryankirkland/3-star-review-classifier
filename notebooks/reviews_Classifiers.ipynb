{
 "cells": [
  {
   "cell_type": "code",
   "execution_count": 1,
   "metadata": {},
   "outputs": [],
   "source": [
    "from sklearn.feature_extraction.text import TfidfVectorizer\n",
    "import pandas as pd\n",
    "import numpy as np\n",
    "from sklearn.model_selection import train_test_split\n",
    "import matplotlib.pyplot as plt\n",
    "import pickle"
   ]
  },
  {
   "cell_type": "code",
   "execution_count": 2,
   "metadata": {},
   "outputs": [],
   "source": [
    "df = pd.read_csv('../data/preprocessed_reviews/nlp_cleaned_reviews.csv')"
   ]
  },
  {
   "cell_type": "code",
   "execution_count": 3,
   "metadata": {},
   "outputs": [],
   "source": [
    "df['sentiment'] = df['rating'].map({1.0: 'Negative', 2.0: 'Negative', 3.0: 'Neutral', 4.0: 'Positive', 5.0: 'Positive'})"
   ]
  },
  {
   "cell_type": "code",
   "execution_count": 4,
   "metadata": {},
   "outputs": [],
   "source": [
    "df = df.drop('Unnamed: 0', axis=1)"
   ]
  },
  {
   "cell_type": "code",
   "execution_count": 5,
   "metadata": {},
   "outputs": [
    {
     "data": {
      "text/plain": [
       "(4745, 14)"
      ]
     },
     "execution_count": 5,
     "metadata": {},
     "output_type": "execute_result"
    }
   ],
   "source": [
    "df.shape"
   ]
  },
  {
   "cell_type": "code",
   "execution_count": 6,
   "metadata": {},
   "outputs": [],
   "source": [
    "X = df['str_desc']\n",
    "y = df['rating']"
   ]
  },
  {
   "cell_type": "code",
   "execution_count": 8,
   "metadata": {},
   "outputs": [
    {
     "data": {
      "text/plain": [
       "matrix([[0., 0., 0., ..., 0., 0., 0.],\n",
       "        [0., 0., 0., ..., 0., 0., 0.],\n",
       "        [0., 0., 0., ..., 0., 0., 0.],\n",
       "        ...,\n",
       "        [0., 0., 0., ..., 0., 0., 0.],\n",
       "        [0., 0., 0., ..., 0., 0., 0.],\n",
       "        [0., 0., 0., ..., 0., 0., 0.]])"
      ]
     },
     "execution_count": 8,
     "metadata": {},
     "output_type": "execute_result"
    }
   ],
   "source": [
    "tfidf = TfidfVectorizer()\n",
    "vectorized = tfidf.fit_transform(X.astype(str))\n",
    "vectorized.todense()"
   ]
  },
  {
   "cell_type": "code",
   "execution_count": 9,
   "metadata": {},
   "outputs": [],
   "source": [
    "x_df = pd.DataFrame(vectorized.todense())\n",
    "y_labeled = df['sentiment']"
   ]
  },
  {
   "cell_type": "code",
   "execution_count": 10,
   "metadata": {},
   "outputs": [],
   "source": [
    "x_df['sentiment'] = y_labeled"
   ]
  },
  {
   "cell_type": "code",
   "execution_count": 11,
   "metadata": {},
   "outputs": [
    {
     "data": {
      "text/html": [
       "<div>\n",
       "<style scoped>\n",
       "    .dataframe tbody tr th:only-of-type {\n",
       "        vertical-align: middle;\n",
       "    }\n",
       "\n",
       "    .dataframe tbody tr th {\n",
       "        vertical-align: top;\n",
       "    }\n",
       "\n",
       "    .dataframe thead th {\n",
       "        text-align: right;\n",
       "    }\n",
       "</style>\n",
       "<table border=\"1\" class=\"dataframe\">\n",
       "  <thead>\n",
       "    <tr style=\"text-align: right;\">\n",
       "      <th></th>\n",
       "      <th>0</th>\n",
       "      <th>1</th>\n",
       "      <th>2</th>\n",
       "      <th>3</th>\n",
       "      <th>4</th>\n",
       "      <th>5</th>\n",
       "      <th>6</th>\n",
       "      <th>7</th>\n",
       "      <th>8</th>\n",
       "      <th>9</th>\n",
       "      <th>...</th>\n",
       "      <th>8383</th>\n",
       "      <th>8384</th>\n",
       "      <th>8385</th>\n",
       "      <th>8386</th>\n",
       "      <th>8387</th>\n",
       "      <th>8388</th>\n",
       "      <th>8389</th>\n",
       "      <th>8390</th>\n",
       "      <th>8391</th>\n",
       "      <th>sentiment</th>\n",
       "    </tr>\n",
       "  </thead>\n",
       "  <tbody>\n",
       "    <tr>\n",
       "      <th>0</th>\n",
       "      <td>0.0</td>\n",
       "      <td>0.0</td>\n",
       "      <td>0.0</td>\n",
       "      <td>0.0</td>\n",
       "      <td>0.0</td>\n",
       "      <td>0.0</td>\n",
       "      <td>0.0</td>\n",
       "      <td>0.0</td>\n",
       "      <td>0.0</td>\n",
       "      <td>0.0</td>\n",
       "      <td>...</td>\n",
       "      <td>0.0</td>\n",
       "      <td>0.0</td>\n",
       "      <td>0.0</td>\n",
       "      <td>0.0</td>\n",
       "      <td>0.0</td>\n",
       "      <td>0.0</td>\n",
       "      <td>0.0</td>\n",
       "      <td>0.0</td>\n",
       "      <td>0.0</td>\n",
       "      <td>Negative</td>\n",
       "    </tr>\n",
       "    <tr>\n",
       "      <th>1</th>\n",
       "      <td>0.0</td>\n",
       "      <td>0.0</td>\n",
       "      <td>0.0</td>\n",
       "      <td>0.0</td>\n",
       "      <td>0.0</td>\n",
       "      <td>0.0</td>\n",
       "      <td>0.0</td>\n",
       "      <td>0.0</td>\n",
       "      <td>0.0</td>\n",
       "      <td>0.0</td>\n",
       "      <td>...</td>\n",
       "      <td>0.0</td>\n",
       "      <td>0.0</td>\n",
       "      <td>0.0</td>\n",
       "      <td>0.0</td>\n",
       "      <td>0.0</td>\n",
       "      <td>0.0</td>\n",
       "      <td>0.0</td>\n",
       "      <td>0.0</td>\n",
       "      <td>0.0</td>\n",
       "      <td>Negative</td>\n",
       "    </tr>\n",
       "    <tr>\n",
       "      <th>2</th>\n",
       "      <td>0.0</td>\n",
       "      <td>0.0</td>\n",
       "      <td>0.0</td>\n",
       "      <td>0.0</td>\n",
       "      <td>0.0</td>\n",
       "      <td>0.0</td>\n",
       "      <td>0.0</td>\n",
       "      <td>0.0</td>\n",
       "      <td>0.0</td>\n",
       "      <td>0.0</td>\n",
       "      <td>...</td>\n",
       "      <td>0.0</td>\n",
       "      <td>0.0</td>\n",
       "      <td>0.0</td>\n",
       "      <td>0.0</td>\n",
       "      <td>0.0</td>\n",
       "      <td>0.0</td>\n",
       "      <td>0.0</td>\n",
       "      <td>0.0</td>\n",
       "      <td>0.0</td>\n",
       "      <td>Positive</td>\n",
       "    </tr>\n",
       "    <tr>\n",
       "      <th>3</th>\n",
       "      <td>0.0</td>\n",
       "      <td>0.0</td>\n",
       "      <td>0.0</td>\n",
       "      <td>0.0</td>\n",
       "      <td>0.0</td>\n",
       "      <td>0.0</td>\n",
       "      <td>0.0</td>\n",
       "      <td>0.0</td>\n",
       "      <td>0.0</td>\n",
       "      <td>0.0</td>\n",
       "      <td>...</td>\n",
       "      <td>0.0</td>\n",
       "      <td>0.0</td>\n",
       "      <td>0.0</td>\n",
       "      <td>0.0</td>\n",
       "      <td>0.0</td>\n",
       "      <td>0.0</td>\n",
       "      <td>0.0</td>\n",
       "      <td>0.0</td>\n",
       "      <td>0.0</td>\n",
       "      <td>Positive</td>\n",
       "    </tr>\n",
       "    <tr>\n",
       "      <th>4</th>\n",
       "      <td>0.0</td>\n",
       "      <td>0.0</td>\n",
       "      <td>0.0</td>\n",
       "      <td>0.0</td>\n",
       "      <td>0.0</td>\n",
       "      <td>0.0</td>\n",
       "      <td>0.0</td>\n",
       "      <td>0.0</td>\n",
       "      <td>0.0</td>\n",
       "      <td>0.0</td>\n",
       "      <td>...</td>\n",
       "      <td>0.0</td>\n",
       "      <td>0.0</td>\n",
       "      <td>0.0</td>\n",
       "      <td>0.0</td>\n",
       "      <td>0.0</td>\n",
       "      <td>0.0</td>\n",
       "      <td>0.0</td>\n",
       "      <td>0.0</td>\n",
       "      <td>0.0</td>\n",
       "      <td>Neutral</td>\n",
       "    </tr>\n",
       "  </tbody>\n",
       "</table>\n",
       "<p>5 rows × 8393 columns</p>\n",
       "</div>"
      ],
      "text/plain": [
       "     0    1    2    3    4    5    6    7    8    9  ...  8383  8384  8385  \\\n",
       "0  0.0  0.0  0.0  0.0  0.0  0.0  0.0  0.0  0.0  0.0  ...   0.0   0.0   0.0   \n",
       "1  0.0  0.0  0.0  0.0  0.0  0.0  0.0  0.0  0.0  0.0  ...   0.0   0.0   0.0   \n",
       "2  0.0  0.0  0.0  0.0  0.0  0.0  0.0  0.0  0.0  0.0  ...   0.0   0.0   0.0   \n",
       "3  0.0  0.0  0.0  0.0  0.0  0.0  0.0  0.0  0.0  0.0  ...   0.0   0.0   0.0   \n",
       "4  0.0  0.0  0.0  0.0  0.0  0.0  0.0  0.0  0.0  0.0  ...   0.0   0.0   0.0   \n",
       "\n",
       "   8386  8387  8388  8389  8390  8391  sentiment  \n",
       "0   0.0   0.0   0.0   0.0   0.0   0.0   Negative  \n",
       "1   0.0   0.0   0.0   0.0   0.0   0.0   Negative  \n",
       "2   0.0   0.0   0.0   0.0   0.0   0.0   Positive  \n",
       "3   0.0   0.0   0.0   0.0   0.0   0.0   Positive  \n",
       "4   0.0   0.0   0.0   0.0   0.0   0.0    Neutral  \n",
       "\n",
       "[5 rows x 8393 columns]"
      ]
     },
     "execution_count": 11,
     "metadata": {},
     "output_type": "execute_result"
    }
   ],
   "source": [
    "x_df.head()"
   ]
  },
  {
   "cell_type": "code",
   "execution_count": 12,
   "metadata": {},
   "outputs": [],
   "source": [
    "X_set = x_df[x_df['sentiment'] != 'Neutral']\n",
    "y_set = X_set['sentiment']\n",
    "X_set = X_set.drop('sentiment', axis=1)"
   ]
  },
  {
   "cell_type": "code",
   "execution_count": 13,
   "metadata": {},
   "outputs": [],
   "source": [
    "X_train, X_test, y_train, y_test = train_test_split(X_set, y_set)"
   ]
  },
  {
   "cell_type": "code",
   "execution_count": 14,
   "metadata": {},
   "outputs": [],
   "source": [
    "from sklearn.ensemble import RandomForestClassifier\n",
    "\n",
    "rf = RandomForestClassifier(n_estimators=100, min_samples_split=8, max_depth=None)"
   ]
  },
  {
   "cell_type": "code",
   "execution_count": 15,
   "metadata": {},
   "outputs": [
    {
     "data": {
      "text/plain": [
       "RandomForestClassifier(min_samples_split=8)"
      ]
     },
     "execution_count": 15,
     "metadata": {},
     "output_type": "execute_result"
    }
   ],
   "source": [
    "rf.fit(X_train, y_train)"
   ]
  },
  {
   "cell_type": "code",
   "execution_count": 16,
   "metadata": {},
   "outputs": [],
   "source": [
    "y_pred_proba = rf.predict_proba(X_test)\n",
    "y_pred = rf.predict(X_test)"
   ]
  },
  {
   "cell_type": "code",
   "execution_count": 257,
   "metadata": {},
   "outputs": [],
   "source": [
    "pred_df = pd.DataFrame(y_pred_proba, columns=['Negative', 'Positive'])\n",
    "pred_df['prediction'] = y_pred"
   ]
  },
  {
   "cell_type": "code",
   "execution_count": 17,
   "metadata": {},
   "outputs": [],
   "source": [
    "def pickle_model(model):\n",
    "        with open(\"model.pkl\", 'wb') as f:\n",
    "            pickle.dump(model, f)"
   ]
  },
  {
   "cell_type": "code",
   "execution_count": 18,
   "metadata": {},
   "outputs": [],
   "source": [
    "pickle_model(rf)"
   ]
  },
  {
   "cell_type": "code",
   "execution_count": 20,
   "metadata": {},
   "outputs": [],
   "source": [
    "three_star_test = x_df[x_df['sentiment'] == 'Neutral']\n",
    "three_star_test = three_star_test.drop('sentiment', axis=1)\n",
    "three_star_pred = rf.predict_proba(three_star_test)"
   ]
  },
  {
   "cell_type": "code",
   "execution_count": 21,
   "metadata": {},
   "outputs": [],
   "source": [
    "three_star_test.to_csv('../data/three_star.csv')"
   ]
  },
  {
   "cell_type": "code",
   "execution_count": 22,
   "metadata": {},
   "outputs": [
    {
     "data": {
      "text/html": [
       "<div>\n",
       "<style scoped>\n",
       "    .dataframe tbody tr th:only-of-type {\n",
       "        vertical-align: middle;\n",
       "    }\n",
       "\n",
       "    .dataframe tbody tr th {\n",
       "        vertical-align: top;\n",
       "    }\n",
       "\n",
       "    .dataframe thead th {\n",
       "        text-align: right;\n",
       "    }\n",
       "</style>\n",
       "<table border=\"1\" class=\"dataframe\">\n",
       "  <thead>\n",
       "    <tr style=\"text-align: right;\">\n",
       "      <th></th>\n",
       "      <th>Unnamed: 0</th>\n",
       "      <th>0</th>\n",
       "      <th>1</th>\n",
       "      <th>2</th>\n",
       "      <th>3</th>\n",
       "      <th>4</th>\n",
       "      <th>5</th>\n",
       "      <th>6</th>\n",
       "      <th>7</th>\n",
       "      <th>8</th>\n",
       "      <th>...</th>\n",
       "      <th>8382</th>\n",
       "      <th>8383</th>\n",
       "      <th>8384</th>\n",
       "      <th>8385</th>\n",
       "      <th>8386</th>\n",
       "      <th>8387</th>\n",
       "      <th>8388</th>\n",
       "      <th>8389</th>\n",
       "      <th>8390</th>\n",
       "      <th>8391</th>\n",
       "    </tr>\n",
       "  </thead>\n",
       "  <tbody>\n",
       "    <tr>\n",
       "      <th>0</th>\n",
       "      <td>4</td>\n",
       "      <td>0.0</td>\n",
       "      <td>0.0</td>\n",
       "      <td>0.0</td>\n",
       "      <td>0.0</td>\n",
       "      <td>0.0</td>\n",
       "      <td>0.0</td>\n",
       "      <td>0.0</td>\n",
       "      <td>0.0</td>\n",
       "      <td>0.0</td>\n",
       "      <td>...</td>\n",
       "      <td>0.0</td>\n",
       "      <td>0.0</td>\n",
       "      <td>0.0</td>\n",
       "      <td>0.0</td>\n",
       "      <td>0.0</td>\n",
       "      <td>0.0</td>\n",
       "      <td>0.0</td>\n",
       "      <td>0.0</td>\n",
       "      <td>0.0</td>\n",
       "      <td>0.0</td>\n",
       "    </tr>\n",
       "    <tr>\n",
       "      <th>1</th>\n",
       "      <td>20</td>\n",
       "      <td>0.0</td>\n",
       "      <td>0.0</td>\n",
       "      <td>0.0</td>\n",
       "      <td>0.0</td>\n",
       "      <td>0.0</td>\n",
       "      <td>0.0</td>\n",
       "      <td>0.0</td>\n",
       "      <td>0.0</td>\n",
       "      <td>0.0</td>\n",
       "      <td>...</td>\n",
       "      <td>0.0</td>\n",
       "      <td>0.0</td>\n",
       "      <td>0.0</td>\n",
       "      <td>0.0</td>\n",
       "      <td>0.0</td>\n",
       "      <td>0.0</td>\n",
       "      <td>0.0</td>\n",
       "      <td>0.0</td>\n",
       "      <td>0.0</td>\n",
       "      <td>0.0</td>\n",
       "    </tr>\n",
       "    <tr>\n",
       "      <th>2</th>\n",
       "      <td>27</td>\n",
       "      <td>0.0</td>\n",
       "      <td>0.0</td>\n",
       "      <td>0.0</td>\n",
       "      <td>0.0</td>\n",
       "      <td>0.0</td>\n",
       "      <td>0.0</td>\n",
       "      <td>0.0</td>\n",
       "      <td>0.0</td>\n",
       "      <td>0.0</td>\n",
       "      <td>...</td>\n",
       "      <td>0.0</td>\n",
       "      <td>0.0</td>\n",
       "      <td>0.0</td>\n",
       "      <td>0.0</td>\n",
       "      <td>0.0</td>\n",
       "      <td>0.0</td>\n",
       "      <td>0.0</td>\n",
       "      <td>0.0</td>\n",
       "      <td>0.0</td>\n",
       "      <td>0.0</td>\n",
       "    </tr>\n",
       "    <tr>\n",
       "      <th>3</th>\n",
       "      <td>47</td>\n",
       "      <td>0.0</td>\n",
       "      <td>0.0</td>\n",
       "      <td>0.0</td>\n",
       "      <td>0.0</td>\n",
       "      <td>0.0</td>\n",
       "      <td>0.0</td>\n",
       "      <td>0.0</td>\n",
       "      <td>0.0</td>\n",
       "      <td>0.0</td>\n",
       "      <td>...</td>\n",
       "      <td>0.0</td>\n",
       "      <td>0.0</td>\n",
       "      <td>0.0</td>\n",
       "      <td>0.0</td>\n",
       "      <td>0.0</td>\n",
       "      <td>0.0</td>\n",
       "      <td>0.0</td>\n",
       "      <td>0.0</td>\n",
       "      <td>0.0</td>\n",
       "      <td>0.0</td>\n",
       "    </tr>\n",
       "    <tr>\n",
       "      <th>4</th>\n",
       "      <td>60</td>\n",
       "      <td>0.0</td>\n",
       "      <td>0.0</td>\n",
       "      <td>0.0</td>\n",
       "      <td>0.0</td>\n",
       "      <td>0.0</td>\n",
       "      <td>0.0</td>\n",
       "      <td>0.0</td>\n",
       "      <td>0.0</td>\n",
       "      <td>0.0</td>\n",
       "      <td>...</td>\n",
       "      <td>0.0</td>\n",
       "      <td>0.0</td>\n",
       "      <td>0.0</td>\n",
       "      <td>0.0</td>\n",
       "      <td>0.0</td>\n",
       "      <td>0.0</td>\n",
       "      <td>0.0</td>\n",
       "      <td>0.0</td>\n",
       "      <td>0.0</td>\n",
       "      <td>0.0</td>\n",
       "    </tr>\n",
       "  </tbody>\n",
       "</table>\n",
       "<p>5 rows × 8393 columns</p>\n",
       "</div>"
      ],
      "text/plain": [
       "   Unnamed: 0    0    1    2    3    4    5    6    7    8  ...  8382  8383  \\\n",
       "0           4  0.0  0.0  0.0  0.0  0.0  0.0  0.0  0.0  0.0  ...   0.0   0.0   \n",
       "1          20  0.0  0.0  0.0  0.0  0.0  0.0  0.0  0.0  0.0  ...   0.0   0.0   \n",
       "2          27  0.0  0.0  0.0  0.0  0.0  0.0  0.0  0.0  0.0  ...   0.0   0.0   \n",
       "3          47  0.0  0.0  0.0  0.0  0.0  0.0  0.0  0.0  0.0  ...   0.0   0.0   \n",
       "4          60  0.0  0.0  0.0  0.0  0.0  0.0  0.0  0.0  0.0  ...   0.0   0.0   \n",
       "\n",
       "   8384  8385  8386  8387  8388  8389  8390  8391  \n",
       "0   0.0   0.0   0.0   0.0   0.0   0.0   0.0   0.0  \n",
       "1   0.0   0.0   0.0   0.0   0.0   0.0   0.0   0.0  \n",
       "2   0.0   0.0   0.0   0.0   0.0   0.0   0.0   0.0  \n",
       "3   0.0   0.0   0.0   0.0   0.0   0.0   0.0   0.0  \n",
       "4   0.0   0.0   0.0   0.0   0.0   0.0   0.0   0.0  \n",
       "\n",
       "[5 rows x 8393 columns]"
      ]
     },
     "execution_count": 22,
     "metadata": {},
     "output_type": "execute_result"
    }
   ],
   "source": [
    "ts = pd.read_csv('../data/three_star.csv')\n",
    "ts.head()"
   ]
  },
  {
   "cell_type": "code",
   "execution_count": 277,
   "metadata": {},
   "outputs": [],
   "source": [
    "three_star_res_df = pd.DataFrame(three_star_pred, columns=['Negative', 'Positive'])"
   ]
  },
  {
   "cell_type": "code",
   "execution_count": 282,
   "metadata": {},
   "outputs": [],
   "source": [
    "three_star_res_df['sentiment'] = three_star_res_df['Positive'].apply(lambda x: 'Positive' if x > 0.5 else 'Negative')"
   ]
  },
  {
   "cell_type": "code",
   "execution_count": 292,
   "metadata": {},
   "outputs": [
    {
     "data": {
      "text/html": [
       "<div>\n",
       "<style scoped>\n",
       "    .dataframe tbody tr th:only-of-type {\n",
       "        vertical-align: middle;\n",
       "    }\n",
       "\n",
       "    .dataframe tbody tr th {\n",
       "        vertical-align: top;\n",
       "    }\n",
       "\n",
       "    .dataframe thead th {\n",
       "        text-align: right;\n",
       "    }\n",
       "</style>\n",
       "<table border=\"1\" class=\"dataframe\">\n",
       "  <thead>\n",
       "    <tr style=\"text-align: right;\">\n",
       "      <th></th>\n",
       "      <th>Negative</th>\n",
       "      <th>Positive</th>\n",
       "      <th>sentiment</th>\n",
       "    </tr>\n",
       "  </thead>\n",
       "  <tbody>\n",
       "    <tr>\n",
       "      <th>0</th>\n",
       "      <td>0.179207</td>\n",
       "      <td>0.820793</td>\n",
       "      <td>Positive</td>\n",
       "    </tr>\n",
       "    <tr>\n",
       "      <th>1</th>\n",
       "      <td>0.360875</td>\n",
       "      <td>0.639125</td>\n",
       "      <td>Positive</td>\n",
       "    </tr>\n",
       "    <tr>\n",
       "      <th>2</th>\n",
       "      <td>0.177828</td>\n",
       "      <td>0.822172</td>\n",
       "      <td>Positive</td>\n",
       "    </tr>\n",
       "    <tr>\n",
       "      <th>3</th>\n",
       "      <td>0.379059</td>\n",
       "      <td>0.620941</td>\n",
       "      <td>Positive</td>\n",
       "    </tr>\n",
       "    <tr>\n",
       "      <th>4</th>\n",
       "      <td>0.614576</td>\n",
       "      <td>0.385424</td>\n",
       "      <td>Negative</td>\n",
       "    </tr>\n",
       "    <tr>\n",
       "      <th>...</th>\n",
       "      <td>...</td>\n",
       "      <td>...</td>\n",
       "      <td>...</td>\n",
       "    </tr>\n",
       "    <tr>\n",
       "      <th>296</th>\n",
       "      <td>0.353621</td>\n",
       "      <td>0.646379</td>\n",
       "      <td>Positive</td>\n",
       "    </tr>\n",
       "    <tr>\n",
       "      <th>297</th>\n",
       "      <td>0.589762</td>\n",
       "      <td>0.410238</td>\n",
       "      <td>Negative</td>\n",
       "    </tr>\n",
       "    <tr>\n",
       "      <th>298</th>\n",
       "      <td>0.451742</td>\n",
       "      <td>0.548258</td>\n",
       "      <td>Positive</td>\n",
       "    </tr>\n",
       "    <tr>\n",
       "      <th>299</th>\n",
       "      <td>0.334299</td>\n",
       "      <td>0.665701</td>\n",
       "      <td>Positive</td>\n",
       "    </tr>\n",
       "    <tr>\n",
       "      <th>300</th>\n",
       "      <td>0.581862</td>\n",
       "      <td>0.418138</td>\n",
       "      <td>Negative</td>\n",
       "    </tr>\n",
       "  </tbody>\n",
       "</table>\n",
       "<p>301 rows × 3 columns</p>\n",
       "</div>"
      ],
      "text/plain": [
       "     Negative  Positive sentiment\n",
       "0    0.179207  0.820793  Positive\n",
       "1    0.360875  0.639125  Positive\n",
       "2    0.177828  0.822172  Positive\n",
       "3    0.379059  0.620941  Positive\n",
       "4    0.614576  0.385424  Negative\n",
       "..        ...       ...       ...\n",
       "296  0.353621  0.646379  Positive\n",
       "297  0.589762  0.410238  Negative\n",
       "298  0.451742  0.548258  Positive\n",
       "299  0.334299  0.665701  Positive\n",
       "300  0.581862  0.418138  Negative\n",
       "\n",
       "[301 rows x 3 columns]"
      ]
     },
     "execution_count": 292,
     "metadata": {},
     "output_type": "execute_result"
    }
   ],
   "source": [
    "three_star_res_df"
   ]
  },
  {
   "cell_type": "code",
   "execution_count": 284,
   "metadata": {},
   "outputs": [],
   "source": [
    "cs_three_star_res = three_star_res_df.copy()"
   ]
  },
  {
   "cell_type": "code",
   "execution_count": 286,
   "metadata": {},
   "outputs": [],
   "source": [
    "cs_three_star_res['sentiment'] = cs_three_star_res['Positive'].apply(lambda x: 'Positive' if x > 0.79 else 'Negative')"
   ]
  },
  {
   "cell_type": "code",
   "execution_count": 287,
   "metadata": {},
   "outputs": [
    {
     "data": {
      "text/html": [
       "<div>\n",
       "<style scoped>\n",
       "    .dataframe tbody tr th:only-of-type {\n",
       "        vertical-align: middle;\n",
       "    }\n",
       "\n",
       "    .dataframe tbody tr th {\n",
       "        vertical-align: top;\n",
       "    }\n",
       "\n",
       "    .dataframe thead th {\n",
       "        text-align: right;\n",
       "    }\n",
       "</style>\n",
       "<table border=\"1\" class=\"dataframe\">\n",
       "  <thead>\n",
       "    <tr style=\"text-align: right;\">\n",
       "      <th></th>\n",
       "      <th>Negative</th>\n",
       "      <th>Positive</th>\n",
       "      <th>sentiment</th>\n",
       "    </tr>\n",
       "  </thead>\n",
       "  <tbody>\n",
       "    <tr>\n",
       "      <th>0</th>\n",
       "      <td>0.179207</td>\n",
       "      <td>0.820793</td>\n",
       "      <td>Positive</td>\n",
       "    </tr>\n",
       "    <tr>\n",
       "      <th>1</th>\n",
       "      <td>0.360875</td>\n",
       "      <td>0.639125</td>\n",
       "      <td>Negative</td>\n",
       "    </tr>\n",
       "    <tr>\n",
       "      <th>2</th>\n",
       "      <td>0.177828</td>\n",
       "      <td>0.822172</td>\n",
       "      <td>Positive</td>\n",
       "    </tr>\n",
       "    <tr>\n",
       "      <th>3</th>\n",
       "      <td>0.379059</td>\n",
       "      <td>0.620941</td>\n",
       "      <td>Negative</td>\n",
       "    </tr>\n",
       "    <tr>\n",
       "      <th>4</th>\n",
       "      <td>0.614576</td>\n",
       "      <td>0.385424</td>\n",
       "      <td>Negative</td>\n",
       "    </tr>\n",
       "  </tbody>\n",
       "</table>\n",
       "</div>"
      ],
      "text/plain": [
       "   Negative  Positive sentiment\n",
       "0  0.179207  0.820793  Positive\n",
       "1  0.360875  0.639125  Negative\n",
       "2  0.177828  0.822172  Positive\n",
       "3  0.379059  0.620941  Negative\n",
       "4  0.614576  0.385424  Negative"
      ]
     },
     "execution_count": 287,
     "metadata": {},
     "output_type": "execute_result"
    }
   ],
   "source": [
    "cs_three_star_res.head()"
   ]
  },
  {
   "cell_type": "code",
   "execution_count": 289,
   "metadata": {},
   "outputs": [],
   "source": [
    "three_star_og = df[df['sentiment'] == 'Neutral']"
   ]
  },
  {
   "cell_type": "code",
   "execution_count": 295,
   "metadata": {},
   "outputs": [],
   "source": [
    "three_star_og = three_star_og.drop('sentiment', axis=1)\n",
    "three_star_og['sentiment'] = list(three_star_res_df['sentiment'])\n",
    "three_star_og_grouped = three_star_og.groupby('sentiment').count()"
   ]
  },
  {
   "cell_type": "code",
   "execution_count": 296,
   "metadata": {},
   "outputs": [
    {
     "data": {
      "text/html": [
       "<div>\n",
       "<style scoped>\n",
       "    .dataframe tbody tr th:only-of-type {\n",
       "        vertical-align: middle;\n",
       "    }\n",
       "\n",
       "    .dataframe tbody tr th {\n",
       "        vertical-align: top;\n",
       "    }\n",
       "\n",
       "    .dataframe thead th {\n",
       "        text-align: right;\n",
       "    }\n",
       "</style>\n",
       "<table border=\"1\" class=\"dataframe\">\n",
       "  <thead>\n",
       "    <tr style=\"text-align: right;\">\n",
       "      <th></th>\n",
       "      <th>asin</th>\n",
       "      <th>product</th>\n",
       "      <th>date</th>\n",
       "      <th>verified</th>\n",
       "      <th>title</th>\n",
       "      <th>desc</th>\n",
       "      <th>reviewer_name</th>\n",
       "      <th>rating</th>\n",
       "      <th>month</th>\n",
       "      <th>year</th>\n",
       "      <th>month_year</th>\n",
       "      <th>title_desc</th>\n",
       "      <th>str_desc</th>\n",
       "    </tr>\n",
       "    <tr>\n",
       "      <th>sentiment</th>\n",
       "      <th></th>\n",
       "      <th></th>\n",
       "      <th></th>\n",
       "      <th></th>\n",
       "      <th></th>\n",
       "      <th></th>\n",
       "      <th></th>\n",
       "      <th></th>\n",
       "      <th></th>\n",
       "      <th></th>\n",
       "      <th></th>\n",
       "      <th></th>\n",
       "      <th></th>\n",
       "    </tr>\n",
       "  </thead>\n",
       "  <tbody>\n",
       "    <tr>\n",
       "      <th>Negative</th>\n",
       "      <td>49</td>\n",
       "      <td>49</td>\n",
       "      <td>49</td>\n",
       "      <td>49</td>\n",
       "      <td>49</td>\n",
       "      <td>49</td>\n",
       "      <td>49</td>\n",
       "      <td>49</td>\n",
       "      <td>49</td>\n",
       "      <td>49</td>\n",
       "      <td>49</td>\n",
       "      <td>49</td>\n",
       "      <td>49</td>\n",
       "    </tr>\n",
       "    <tr>\n",
       "      <th>Positive</th>\n",
       "      <td>252</td>\n",
       "      <td>252</td>\n",
       "      <td>252</td>\n",
       "      <td>252</td>\n",
       "      <td>252</td>\n",
       "      <td>252</td>\n",
       "      <td>252</td>\n",
       "      <td>252</td>\n",
       "      <td>252</td>\n",
       "      <td>252</td>\n",
       "      <td>252</td>\n",
       "      <td>252</td>\n",
       "      <td>251</td>\n",
       "    </tr>\n",
       "  </tbody>\n",
       "</table>\n",
       "</div>"
      ],
      "text/plain": [
       "           asin  product  date  verified  title  desc  reviewer_name  rating  \\\n",
       "sentiment                                                                      \n",
       "Negative     49       49    49        49     49    49             49      49   \n",
       "Positive    252      252   252       252    252   252            252     252   \n",
       "\n",
       "           month  year  month_year  title_desc  str_desc  \n",
       "sentiment                                                 \n",
       "Negative      49    49          49          49        49  \n",
       "Positive     252   252         252         252       251  "
      ]
     },
     "execution_count": 296,
     "metadata": {},
     "output_type": "execute_result"
    }
   ],
   "source": [
    "three_star_og_grouped"
   ]
  },
  {
   "cell_type": "code",
   "execution_count": null,
   "metadata": {},
   "outputs": [],
   "source": []
  },
  {
   "cell_type": "code",
   "execution_count": null,
   "metadata": {},
   "outputs": [],
   "source": []
  },
  {
   "cell_type": "code",
   "execution_count": 170,
   "metadata": {},
   "outputs": [],
   "source": [
    "def predict(model, X, threshold=0.5):\n",
    "    '''Return prediction of the fitted binary-classifier model model on X using\n",
    "    the specifed `threshold`. NB: class 0 is the positive class'''\n",
    "    print(model.predict_proba(X)[:, 1])\n",
    "    return np.where(model.predict_proba(X)[:, 1] > threshold,\n",
    "                    model.classes_[1],\n",
    "                    model.classes_[0])\n",
    "\n",
    "def confusion_matrix_(model, X, threshold=0.5):\n",
    "    cf = pd.crosstab(y_test, predict(model, X, threshold))\n",
    "    cf = cf.add(pd.DataFrame([[0,0],[0,0]], columns=['Negative', 'Positive'], index=['Negative', 'Positive']), fill_value=0)\n",
    "    cf.index.name = 'actual'\n",
    "    cf.columns.name = 'predicted'\n",
    "    return cf"
   ]
  },
  {
   "cell_type": "code",
   "execution_count": 258,
   "metadata": {},
   "outputs": [
    {
     "name": "stdout",
     "output_type": "stream",
     "text": [
      "[0.9248722  0.31323232 0.93144758 ... 0.88790476 0.52706    0.98851948]\n"
     ]
    }
   ],
   "source": [
    "new_y_pred = predict(rf, X_test, threshold=0.6)\n",
    "pred_df['new_y'] = new_y_pred"
   ]
  },
  {
   "cell_type": "code",
   "execution_count": 261,
   "metadata": {},
   "outputs": [
    {
     "name": "stdout",
     "output_type": "stream",
     "text": [
      "[0.9248722  0.31323232 0.93144758 ... 0.88790476 0.52706    0.98851948]\n"
     ]
    }
   ],
   "source": [
    "th_conf_mat = confusion_matrix_(rf, X_test, threshold=0.82)"
   ]
  },
  {
   "cell_type": "code",
   "execution_count": 262,
   "metadata": {},
   "outputs": [
    {
     "data": {
      "image/png": "[encoded data removed]",
      "text/plain": [
       "<Figure size 720x720 with 2 Axes>"
      ]
     },
     "metadata": {
      "needs_background": "light"
     },
     "output_type": "display_data"
    }
   ],
   "source": [
    "from sklearn.metrics import confusion_matrix, precision_score, recall_score\n",
    "\n",
    "fig, ax = plt.subplots(figsize=(10,10))\n",
    "sns.heatmap(th_conf_mat, annot=True, fmt='d',\n",
    "            xticklabels=['Negative Review', 'Positive Review'], yticklabels=['Negative Review', 'Positive Review'])\n",
    "plt.ylabel('Actual')\n",
    "plt.xlabel('Predicted')\n",
    "plt.show()"
   ]
  },
  {
   "cell_type": "code",
   "execution_count": 177,
   "metadata": {},
   "outputs": [],
   "source": [
    "def calculate_payout(cb_matrix, model, X, threshold):\n",
    "    return (confusion_matrix_(model, X, threshold) * cb_matrix).values.sum()"
   ]
  },
  {
   "cell_type": "code",
   "execution_count": 182,
   "metadata": {},
   "outputs": [
    {
     "name": "stdout",
     "output_type": "stream",
     "text": [
      "[0.78780016 0.32030862 0.96609177 ... 0.76997547 0.96912908 0.63757662]\n",
      "[0.78780016 0.32030862 0.96609177 ... 0.76997547 0.96912908 0.63757662]\n",
      "[0.78780016 0.32030862 0.96609177 ... 0.76997547 0.96912908 0.63757662]\n",
      "[0.78780016 0.32030862 0.96609177 ... 0.76997547 0.96912908 0.63757662]\n",
      "[0.78780016 0.32030862 0.96609177 ... 0.76997547 0.96912908 0.63757662]\n",
      "[0.78780016 0.32030862 0.96609177 ... 0.76997547 0.96912908 0.63757662]\n",
      "[0.78780016 0.32030862 0.96609177 ... 0.76997547 0.96912908 0.63757662]\n",
      "[0.78780016 0.32030862 0.96609177 ... 0.76997547 0.96912908 0.63757662]\n",
      "[0.78780016 0.32030862 0.96609177 ... 0.76997547 0.96912908 0.63757662]\n",
      "[0.78780016 0.32030862 0.96609177 ... 0.76997547 0.96912908 0.63757662]\n",
      "[0.78780016 0.32030862 0.96609177 ... 0.76997547 0.96912908 0.63757662]\n",
      "[0.78780016 0.32030862 0.96609177 ... 0.76997547 0.96912908 0.63757662]\n",
      "[0.78780016 0.32030862 0.96609177 ... 0.76997547 0.96912908 0.63757662]\n",
      "[0.78780016 0.32030862 0.96609177 ... 0.76997547 0.96912908 0.63757662]\n",
      "[0.78780016 0.32030862 0.96609177 ... 0.76997547 0.96912908 0.63757662]\n",
      "[0.78780016 0.32030862 0.96609177 ... 0.76997547 0.96912908 0.63757662]\n",
      "[0.78780016 0.32030862 0.96609177 ... 0.76997547 0.96912908 0.63757662]\n",
      "[0.78780016 0.32030862 0.96609177 ... 0.76997547 0.96912908 0.63757662]\n",
      "[0.78780016 0.32030862 0.96609177 ... 0.76997547 0.96912908 0.63757662]\n",
      "[0.78780016 0.32030862 0.96609177 ... 0.76997547 0.96912908 0.63757662]\n",
      "[0.78780016 0.32030862 0.96609177 ... 0.76997547 0.96912908 0.63757662]\n",
      "[0.78780016 0.32030862 0.96609177 ... 0.76997547 0.96912908 0.63757662]\n",
      "[0.78780016 0.32030862 0.96609177 ... 0.76997547 0.96912908 0.63757662]\n",
      "[0.78780016 0.32030862 0.96609177 ... 0.76997547 0.96912908 0.63757662]\n",
      "[0.78780016 0.32030862 0.96609177 ... 0.76997547 0.96912908 0.63757662]\n",
      "[0.78780016 0.32030862 0.96609177 ... 0.76997547 0.96912908 0.63757662]\n",
      "[0.78780016 0.32030862 0.96609177 ... 0.76997547 0.96912908 0.63757662]\n",
      "[0.78780016 0.32030862 0.96609177 ... 0.76997547 0.96912908 0.63757662]\n",
      "[0.78780016 0.32030862 0.96609177 ... 0.76997547 0.96912908 0.63757662]\n",
      "[0.78780016 0.32030862 0.96609177 ... 0.76997547 0.96912908 0.63757662]\n",
      "[0.78780016 0.32030862 0.96609177 ... 0.76997547 0.96912908 0.63757662]\n",
      "[0.78780016 0.32030862 0.96609177 ... 0.76997547 0.96912908 0.63757662]\n",
      "[0.78780016 0.32030862 0.96609177 ... 0.76997547 0.96912908 0.63757662]\n",
      "[0.78780016 0.32030862 0.96609177 ... 0.76997547 0.96912908 0.63757662]\n",
      "[0.78780016 0.32030862 0.96609177 ... 0.76997547 0.96912908 0.63757662]\n",
      "[0.78780016 0.32030862 0.96609177 ... 0.76997547 0.96912908 0.63757662]\n",
      "[0.78780016 0.32030862 0.96609177 ... 0.76997547 0.96912908 0.63757662]\n",
      "[0.78780016 0.32030862 0.96609177 ... 0.76997547 0.96912908 0.63757662]\n",
      "[0.78780016 0.32030862 0.96609177 ... 0.76997547 0.96912908 0.63757662]\n",
      "[0.78780016 0.32030862 0.96609177 ... 0.76997547 0.96912908 0.63757662]\n",
      "[0.78780016 0.32030862 0.96609177 ... 0.76997547 0.96912908 0.63757662]\n",
      "[0.78780016 0.32030862 0.96609177 ... 0.76997547 0.96912908 0.63757662]\n",
      "[0.78780016 0.32030862 0.96609177 ... 0.76997547 0.96912908 0.63757662]\n",
      "[0.78780016 0.32030862 0.96609177 ... 0.76997547 0.96912908 0.63757662]\n",
      "[0.78780016 0.32030862 0.96609177 ... 0.76997547 0.96912908 0.63757662]\n",
      "[0.78780016 0.32030862 0.96609177 ... 0.76997547 0.96912908 0.63757662]\n",
      "[0.78780016 0.32030862 0.96609177 ... 0.76997547 0.96912908 0.63757662]\n",
      "[0.78780016 0.32030862 0.96609177 ... 0.76997547 0.96912908 0.63757662]\n",
      "[0.78780016 0.32030862 0.96609177 ... 0.76997547 0.96912908 0.63757662]\n",
      "[0.78780016 0.32030862 0.96609177 ... 0.76997547 0.96912908 0.63757662]\n",
      "[0.78780016 0.32030862 0.96609177 ... 0.76997547 0.96912908 0.63757662]\n",
      "[0.78780016 0.32030862 0.96609177 ... 0.76997547 0.96912908 0.63757662]\n",
      "[0.78780016 0.32030862 0.96609177 ... 0.76997547 0.96912908 0.63757662]\n",
      "[0.78780016 0.32030862 0.96609177 ... 0.76997547 0.96912908 0.63757662]\n",
      "[0.78780016 0.32030862 0.96609177 ... 0.76997547 0.96912908 0.63757662]\n",
      "[0.78780016 0.32030862 0.96609177 ... 0.76997547 0.96912908 0.63757662]\n",
      "[0.78780016 0.32030862 0.96609177 ... 0.76997547 0.96912908 0.63757662]\n",
      "[0.78780016 0.32030862 0.96609177 ... 0.76997547 0.96912908 0.63757662]\n",
      "[0.78780016 0.32030862 0.96609177 ... 0.76997547 0.96912908 0.63757662]\n",
      "[0.78780016 0.32030862 0.96609177 ... 0.76997547 0.96912908 0.63757662]\n",
      "[0.78780016 0.32030862 0.96609177 ... 0.76997547 0.96912908 0.63757662]\n",
      "[0.78780016 0.32030862 0.96609177 ... 0.76997547 0.96912908 0.63757662]\n",
      "[0.78780016 0.32030862 0.96609177 ... 0.76997547 0.96912908 0.63757662]\n",
      "[0.78780016 0.32030862 0.96609177 ... 0.76997547 0.96912908 0.63757662]\n",
      "[0.78780016 0.32030862 0.96609177 ... 0.76997547 0.96912908 0.63757662]\n",
      "[0.78780016 0.32030862 0.96609177 ... 0.76997547 0.96912908 0.63757662]\n",
      "[0.78780016 0.32030862 0.96609177 ... 0.76997547 0.96912908 0.63757662]\n",
      "[0.78780016 0.32030862 0.96609177 ... 0.76997547 0.96912908 0.63757662]\n",
      "[0.78780016 0.32030862 0.96609177 ... 0.76997547 0.96912908 0.63757662]\n",
      "[0.78780016 0.32030862 0.96609177 ... 0.76997547 0.96912908 0.63757662]\n",
      "[0.78780016 0.32030862 0.96609177 ... 0.76997547 0.96912908 0.63757662]\n",
      "[0.78780016 0.32030862 0.96609177 ... 0.76997547 0.96912908 0.63757662]\n",
      "[0.78780016 0.32030862 0.96609177 ... 0.76997547 0.96912908 0.63757662]\n",
      "[0.78780016 0.32030862 0.96609177 ... 0.76997547 0.96912908 0.63757662]\n",
      "[0.78780016 0.32030862 0.96609177 ... 0.76997547 0.96912908 0.63757662]\n",
      "[0.78780016 0.32030862 0.96609177 ... 0.76997547 0.96912908 0.63757662]\n",
      "[0.78780016 0.32030862 0.96609177 ... 0.76997547 0.96912908 0.63757662]\n",
      "[0.78780016 0.32030862 0.96609177 ... 0.76997547 0.96912908 0.63757662]\n",
      "[0.78780016 0.32030862 0.96609177 ... 0.76997547 0.96912908 0.63757662]\n",
      "[0.78780016 0.32030862 0.96609177 ... 0.76997547 0.96912908 0.63757662]\n",
      "[0.78780016 0.32030862 0.96609177 ... 0.76997547 0.96912908 0.63757662]\n",
      "[0.78780016 0.32030862 0.96609177 ... 0.76997547 0.96912908 0.63757662]\n",
      "[0.78780016 0.32030862 0.96609177 ... 0.76997547 0.96912908 0.63757662]\n",
      "[0.78780016 0.32030862 0.96609177 ... 0.76997547 0.96912908 0.63757662]\n",
      "[0.78780016 0.32030862 0.96609177 ... 0.76997547 0.96912908 0.63757662]\n",
      "[0.78780016 0.32030862 0.96609177 ... 0.76997547 0.96912908 0.63757662]\n",
      "[0.78780016 0.32030862 0.96609177 ... 0.76997547 0.96912908 0.63757662]\n",
      "[0.78780016 0.32030862 0.96609177 ... 0.76997547 0.96912908 0.63757662]\n",
      "[0.78780016 0.32030862 0.96609177 ... 0.76997547 0.96912908 0.63757662]\n",
      "[0.78780016 0.32030862 0.96609177 ... 0.76997547 0.96912908 0.63757662]\n",
      "[0.78780016 0.32030862 0.96609177 ... 0.76997547 0.96912908 0.63757662]\n",
      "[0.78780016 0.32030862 0.96609177 ... 0.76997547 0.96912908 0.63757662]\n",
      "[0.78780016 0.32030862 0.96609177 ... 0.76997547 0.96912908 0.63757662]\n",
      "[0.78780016 0.32030862 0.96609177 ... 0.76997547 0.96912908 0.63757662]\n",
      "[0.78780016 0.32030862 0.96609177 ... 0.76997547 0.96912908 0.63757662]\n",
      "[0.78780016 0.32030862 0.96609177 ... 0.76997547 0.96912908 0.63757662]\n",
      "[0.78780016 0.32030862 0.96609177 ... 0.76997547 0.96912908 0.63757662]\n",
      "[0.78780016 0.32030862 0.96609177 ... 0.76997547 0.96912908 0.63757662]\n",
      "[0.78780016 0.32030862 0.96609177 ... 0.76997547 0.96912908 0.63757662]\n",
      "[0.78780016 0.32030862 0.96609177 ... 0.76997547 0.96912908 0.63757662]\n"
     ]
    },
    {
     "data": {
      "image/png": "[encoded data removed]",
      "text/plain": [
       "<Figure size 432x288 with 1 Axes>"
      ]
     },
     "metadata": {
      "needs_background": "light"
     },
     "output_type": "display_data"
    }
   ],
   "source": [
    "thresholds = np.arange(0.0, 1.0, 0.01)\n",
    "profits = []\n",
    "for threshold in thresholds:\n",
    "    profits.append(calculate_payout(cb_matrix, rf, X_test, threshold))\n",
    "\n",
    "fig, ax = plt.subplots()\n",
    "ax.plot(thresholds, profits)\n",
    "ax.set_xlabel('thresholds')\n",
    "ax.set_ylabel('profits')\n",
    "ax.set_title('Profit Curve');"
   ]
  },
  {
   "cell_type": "code",
   "execution_count": null,
   "metadata": {},
   "outputs": [],
   "source": []
  },
  {
   "cell_type": "code",
   "execution_count": 77,
   "metadata": {},
   "outputs": [
    {
     "data": {
      "text/plain": [
       "0.8955895589558955"
      ]
     },
     "execution_count": 77,
     "metadata": {},
     "output_type": "execute_result"
    }
   ],
   "source": [
    "rf.score(X_test, y_test)"
   ]
  },
  {
   "cell_type": "code",
   "execution_count": 78,
   "metadata": {},
   "outputs": [
    {
     "data": {
      "text/plain": [
       "<sklearn.metrics._plot.roc_curve.RocCurveDisplay at 0x7fd353c78fd0>"
      ]
     },
     "execution_count": 78,
     "metadata": {},
     "output_type": "execute_result"
    },
    {
     "data": {
      "image/png": "[encoded data removed]",
      "text/plain": [
       "<Figure size 504x360 with 1 Axes>"
      ]
     },
     "metadata": {
      "needs_background": "light"
     },
     "output_type": "display_data"
    }
   ],
   "source": [
    "from sklearn.metrics import plot_roc_curve\n",
    "fig, ax = plt.subplots(figsize=(7,5))\n",
    "plot_roc_curve(rf, X_test, y_test, ax=ax)"
   ]
  },
  {
   "cell_type": "markdown",
   "metadata": {},
   "source": [
    "### Assuming 5 dollar coupon and 5 percent likelihood of converting unhappy customer"
   ]
  },
  {
   "cell_type": "code",
   "execution_count": 79,
   "metadata": {},
   "outputs": [],
   "source": [
    "from sklearn.metrics import confusion_matrix, precision_score, recall_score"
   ]
  },
  {
   "cell_type": "code",
   "execution_count": 80,
   "metadata": {},
   "outputs": [
    {
     "data": {
      "image/png": "[encoded data removed]",
      "text/plain": [
       "<Figure size 720x720 with 2 Axes>"
      ]
     },
     "metadata": {
      "needs_background": "light"
     },
     "output_type": "display_data"
    }
   ],
   "source": [
    "import seaborn as sns\n",
    "\n",
    "conf_mat = confusion_matrix(y_test, y_pred, labels=['Negative', 'Positive'])\n",
    "\n",
    "fig, ax = plt.subplots(figsize=(10,10))\n",
    "sns.heatmap(conf_mat, annot=True, fmt='d',\n",
    "            xticklabels=['Negative Review', 'Positive Review'], yticklabels=['Negative Review', 'Positive Review'])\n",
    "plt.ylabel('Actual')\n",
    "plt.xlabel('Predicted')\n",
    "plt.show()"
   ]
  },
  {
   "cell_type": "code",
   "execution_count": 32,
   "metadata": {},
   "outputs": [],
   "source": [
    "feature_importances = np.argsort(rf.feature_importances_)"
   ]
  },
  {
   "cell_type": "code",
   "execution_count": 33,
   "metadata": {},
   "outputs": [
    {
     "data": {
      "image/png": "[encoded data removed]",
      "text/plain": [
       "<Figure size 720x720 with 1 Axes>"
      ]
     },
     "metadata": {
      "needs_background": "light"
     },
     "output_type": "display_data"
    }
   ],
   "source": [
    "vect_df = pd.DataFrame(vectorized.toarray(), columns=tfidf.get_feature_names())\n",
    "\n",
    "fig, ax = plt.subplots(figsize=(10,10))\n",
    "ax.barh(vect_df.columns[feature_importances][-20:-1], rf.feature_importances_[feature_importances][-20:-1]);"
   ]
  },
  {
   "cell_type": "code",
   "execution_count": 63,
   "metadata": {},
   "outputs": [
    {
     "data": {
      "text/plain": [
       "MultinomialNB()"
      ]
     },
     "execution_count": 63,
     "metadata": {},
     "output_type": "execute_result"
    }
   ],
   "source": [
    "from sklearn.naive_bayes import MultinomialNB\n",
    "\n",
    "clf_nb = MultinomialNB()\n",
    "clf_nb.fit(X_train, y_train)"
   ]
  },
  {
   "cell_type": "code",
   "execution_count": null,
   "metadata": {},
   "outputs": [],
   "source": [
    "clf_nb.predict(X_test)"
   ]
  },
  {
   "cell_type": "code",
   "execution_count": null,
   "metadata": {},
   "outputs": [],
   "source": [
    "clf_nb.score(X_test, y_test)"
   ]
  },
  {
   "cell_type": "code",
   "execution_count": null,
   "metadata": {},
   "outputs": [],
   "source": [
    "len(tfidf.get_feature_names())"
   ]
  },
  {
   "cell_type": "code",
   "execution_count": 32,
   "metadata": {},
   "outputs": [
    {
     "data": {
      "text/plain": [
       "(4745, 14)"
      ]
     },
     "execution_count": 32,
     "metadata": {},
     "output_type": "execute_result"
    }
   ],
   "source": [
    "df.shape"
   ]
  },
  {
   "cell_type": "code",
   "execution_count": 33,
   "metadata": {},
   "outputs": [],
   "source": [
    "one_stars = df[df['rating'] == 1.0]"
   ]
  },
  {
   "cell_type": "code",
   "execution_count": 34,
   "metadata": {},
   "outputs": [
    {
     "data": {
      "text/plain": [
       "(673, 14)"
      ]
     },
     "execution_count": 34,
     "metadata": {},
     "output_type": "execute_result"
    }
   ],
   "source": [
    "one_stars.shape"
   ]
  },
  {
   "cell_type": "code",
   "execution_count": 35,
   "metadata": {},
   "outputs": [],
   "source": [
    "five_stars = df[df['rating'] == 5.0]"
   ]
  },
  {
   "cell_type": "code",
   "execution_count": 36,
   "metadata": {},
   "outputs": [
    {
     "data": {
      "text/plain": [
       "(3060, 14)"
      ]
     },
     "execution_count": 36,
     "metadata": {},
     "output_type": "execute_result"
    }
   ],
   "source": [
    "five_stars.shape"
   ]
  },
  {
   "cell_type": "code",
   "execution_count": 38,
   "metadata": {},
   "outputs": [],
   "source": [
    "five_star_sample = five_stars.sample(len(one_stars))"
   ]
  },
  {
   "cell_type": "code",
   "execution_count": 97,
   "metadata": {},
   "outputs": [],
   "source": [
    "adjusted_df = df[df['rating'] < 5.0]"
   ]
  },
  {
   "cell_type": "code",
   "execution_count": 98,
   "metadata": {},
   "outputs": [],
   "source": [
    "adjusted_df = adjusted_df.append(five_star_sample)"
   ]
  },
  {
   "cell_type": "code",
   "execution_count": 99,
   "metadata": {},
   "outputs": [
    {
     "data": {
      "text/html": [
       "<div>\n",
       "<style scoped>\n",
       "    .dataframe tbody tr th:only-of-type {\n",
       "        vertical-align: middle;\n",
       "    }\n",
       "\n",
       "    .dataframe tbody tr th {\n",
       "        vertical-align: top;\n",
       "    }\n",
       "\n",
       "    .dataframe thead th {\n",
       "        text-align: right;\n",
       "    }\n",
       "</style>\n",
       "<table border=\"1\" class=\"dataframe\">\n",
       "  <thead>\n",
       "    <tr style=\"text-align: right;\">\n",
       "      <th></th>\n",
       "      <th>asin</th>\n",
       "      <th>product</th>\n",
       "      <th>date</th>\n",
       "      <th>verified</th>\n",
       "      <th>title</th>\n",
       "      <th>desc</th>\n",
       "      <th>reviewer_name</th>\n",
       "      <th>rating</th>\n",
       "      <th>month</th>\n",
       "      <th>year</th>\n",
       "      <th>month_year</th>\n",
       "      <th>title_desc</th>\n",
       "      <th>str_desc</th>\n",
       "      <th>sentiment</th>\n",
       "    </tr>\n",
       "  </thead>\n",
       "  <tbody>\n",
       "    <tr>\n",
       "      <th>0</th>\n",
       "      <td>B08267BBJT</td>\n",
       "      <td>AAA</td>\n",
       "      <td>2020-08-11</td>\n",
       "      <td>Verified Purchase</td>\n",
       "      <td>Didn't work, then worked, now don't work again</td>\n",
       "      <td>All I got in terms of use out of these batter...</td>\n",
       "      <td>Jasmine Carroll</td>\n",
       "      <td>1.0</td>\n",
       "      <td>8</td>\n",
       "      <td>2020</td>\n",
       "      <td>2020-08</td>\n",
       "      <td>Didn't work, then worked, now don't work again...</td>\n",
       "      <td>didnt work worked dont work got term use batte...</td>\n",
       "      <td>Negative</td>\n",
       "    </tr>\n",
       "    <tr>\n",
       "      <th>1</th>\n",
       "      <td>B08267BBJT</td>\n",
       "      <td>AAA</td>\n",
       "      <td>2020-07-30</td>\n",
       "      <td>Verified Purchase</td>\n",
       "      <td>These absolutely suck</td>\n",
       "      <td>I bought these for a wall mounted magnifying ...</td>\n",
       "      <td>Ashlee M.</td>\n",
       "      <td>1.0</td>\n",
       "      <td>7</td>\n",
       "      <td>2020</td>\n",
       "      <td>2020-07</td>\n",
       "      <td>These absolutely suck I bought these for a wal...</td>\n",
       "      <td>absolutely suck bought wall mounted magnifying...</td>\n",
       "      <td>Negative</td>\n",
       "    </tr>\n",
       "    <tr>\n",
       "      <th>4</th>\n",
       "      <td>B08267BBJT</td>\n",
       "      <td>AAA</td>\n",
       "      <td>2020-07-17</td>\n",
       "      <td>Verified Purchase</td>\n",
       "      <td>Not long enough battery life for a night hike</td>\n",
       "      <td>Shuts off suddenly in headlamp</td>\n",
       "      <td>T</td>\n",
       "      <td>3.0</td>\n",
       "      <td>7</td>\n",
       "      <td>2020</td>\n",
       "      <td>2020-07</td>\n",
       "      <td>Not long enough battery life for a night hike ...</td>\n",
       "      <td>long enough battery life night hike shuts sudd...</td>\n",
       "      <td>Neutral</td>\n",
       "    </tr>\n",
       "    <tr>\n",
       "      <th>7</th>\n",
       "      <td>B08267BBJT</td>\n",
       "      <td>AAA</td>\n",
       "      <td>2020-07-01</td>\n",
       "      <td>Verified Purchase</td>\n",
       "      <td>Energy Storage Is Less Than 1/4 Normal Batteries.</td>\n",
       "      <td>They do charge quickly, but at what price? It...</td>\n",
       "      <td>Brent R.</td>\n",
       "      <td>1.0</td>\n",
       "      <td>7</td>\n",
       "      <td>2020</td>\n",
       "      <td>2020-07</td>\n",
       "      <td>Energy Storage Is Less Than 1/4 Normal Batteri...</td>\n",
       "      <td>energy storage le 14 normal battery charge qui...</td>\n",
       "      <td>Negative</td>\n",
       "    </tr>\n",
       "    <tr>\n",
       "      <th>8</th>\n",
       "      <td>B08267BBJT</td>\n",
       "      <td>AAA</td>\n",
       "      <td>2020-06-28</td>\n",
       "      <td>Verified Purchase</td>\n",
       "      <td>Poor Quality - Unreliable</td>\n",
       "      <td>I had high hopes for these batteries because ...</td>\n",
       "      <td>Christian D.</td>\n",
       "      <td>1.0</td>\n",
       "      <td>6</td>\n",
       "      <td>2020</td>\n",
       "      <td>2020-06</td>\n",
       "      <td>Poor Quality - Unreliable I had high hopes for...</td>\n",
       "      <td>poor quality unreliable high hope battery desi...</td>\n",
       "      <td>Negative</td>\n",
       "    </tr>\n",
       "    <tr>\n",
       "      <th>...</th>\n",
       "      <td>...</td>\n",
       "      <td>...</td>\n",
       "      <td>...</td>\n",
       "      <td>...</td>\n",
       "      <td>...</td>\n",
       "      <td>...</td>\n",
       "      <td>...</td>\n",
       "      <td>...</td>\n",
       "      <td>...</td>\n",
       "      <td>...</td>\n",
       "      <td>...</td>\n",
       "      <td>...</td>\n",
       "      <td>...</td>\n",
       "      <td>...</td>\n",
       "    </tr>\n",
       "    <tr>\n",
       "      <th>3132</th>\n",
       "      <td>B00HZV9WTM</td>\n",
       "      <td>AA</td>\n",
       "      <td>2020-01-06</td>\n",
       "      <td>Verified Purchase</td>\n",
       "      <td>Great value</td>\n",
       "      <td>I always buy these and have a supply of many ...</td>\n",
       "      <td>D. M. Bateman</td>\n",
       "      <td>5.0</td>\n",
       "      <td>1</td>\n",
       "      <td>2020</td>\n",
       "      <td>2020-01</td>\n",
       "      <td>Great value I always buy these and have a supp...</td>\n",
       "      <td>great value always buy supply many size home l...</td>\n",
       "      <td>Positive</td>\n",
       "    </tr>\n",
       "    <tr>\n",
       "      <th>352</th>\n",
       "      <td>B079JFK22D</td>\n",
       "      <td>AA</td>\n",
       "      <td>2018-12-11</td>\n",
       "      <td>Verified Purchase</td>\n",
       "      <td>Great product for the $</td>\n",
       "      <td>Used for rechargeable speaker. Came in a coup...</td>\n",
       "      <td>Michele L. Plush</td>\n",
       "      <td>5.0</td>\n",
       "      <td>12</td>\n",
       "      <td>2018</td>\n",
       "      <td>2018-12</td>\n",
       "      <td>Great product for the $ Used for rechargeable ...</td>\n",
       "      <td>great product used rechargeable speaker came c...</td>\n",
       "      <td>Positive</td>\n",
       "    </tr>\n",
       "    <tr>\n",
       "      <th>3821</th>\n",
       "      <td>B00HZV9WTM</td>\n",
       "      <td>AA</td>\n",
       "      <td>2019-07-17</td>\n",
       "      <td>Verified Purchase</td>\n",
       "      <td>Good value</td>\n",
       "      <td>We love these, the time till recharge on thes...</td>\n",
       "      <td>matthew a. frentz</td>\n",
       "      <td>5.0</td>\n",
       "      <td>7</td>\n",
       "      <td>2019</td>\n",
       "      <td>2019-07</td>\n",
       "      <td>Good value We love these, the time till rechar...</td>\n",
       "      <td>good value love time till recharge le expensiv...</td>\n",
       "      <td>Positive</td>\n",
       "    </tr>\n",
       "    <tr>\n",
       "      <th>1552</th>\n",
       "      <td>B07MWYYDTM</td>\n",
       "      <td>Other</td>\n",
       "      <td>2018-09-26</td>\n",
       "      <td>Verified Purchase</td>\n",
       "      <td>Great product</td>\n",
       "      <td>This batteries are excelent. 1.5v in a AA for...</td>\n",
       "      <td>Damián Jorge Daniel</td>\n",
       "      <td>5.0</td>\n",
       "      <td>9</td>\n",
       "      <td>2018</td>\n",
       "      <td>2018-09</td>\n",
       "      <td>Great product This batteries are excelent. 1.5...</td>\n",
       "      <td>great product battery excelent 15v aa format b...</td>\n",
       "      <td>Positive</td>\n",
       "    </tr>\n",
       "    <tr>\n",
       "      <th>2762</th>\n",
       "      <td>B07TWDR7VJ</td>\n",
       "      <td>Other</td>\n",
       "      <td>2019-12-07</td>\n",
       "      <td>Verified Purchase</td>\n",
       "      <td>Nice mixed set of AAA/AA rechargeable batterie...</td>\n",
       "      <td>Happy to be helping the environment (even a l...</td>\n",
       "      <td>Brandi Hollis</td>\n",
       "      <td>5.0</td>\n",
       "      <td>12</td>\n",
       "      <td>2019</td>\n",
       "      <td>2019-12</td>\n",
       "      <td>Nice mixed set of AAA/AA rechargeable batterie...</td>\n",
       "      <td>nice mixed set aaaaa rechargeable battery char...</td>\n",
       "      <td>Positive</td>\n",
       "    </tr>\n",
       "  </tbody>\n",
       "</table>\n",
       "<p>2358 rows × 14 columns</p>\n",
       "</div>"
      ],
      "text/plain": [
       "            asin product        date           verified  \\\n",
       "0     B08267BBJT     AAA  2020-08-11  Verified Purchase   \n",
       "1     B08267BBJT     AAA  2020-07-30  Verified Purchase   \n",
       "4     B08267BBJT     AAA  2020-07-17  Verified Purchase   \n",
       "7     B08267BBJT     AAA  2020-07-01  Verified Purchase   \n",
       "8     B08267BBJT     AAA  2020-06-28  Verified Purchase   \n",
       "...          ...     ...         ...                ...   \n",
       "3132  B00HZV9WTM      AA  2020-01-06  Verified Purchase   \n",
       "352   B079JFK22D      AA  2018-12-11  Verified Purchase   \n",
       "3821  B00HZV9WTM      AA  2019-07-17  Verified Purchase   \n",
       "1552  B07MWYYDTM   Other  2018-09-26  Verified Purchase   \n",
       "2762  B07TWDR7VJ   Other  2019-12-07  Verified Purchase   \n",
       "\n",
       "                                                  title  \\\n",
       "0        Didn't work, then worked, now don't work again   \n",
       "1                                 These absolutely suck   \n",
       "4         Not long enough battery life for a night hike   \n",
       "7     Energy Storage Is Less Than 1/4 Normal Batteries.   \n",
       "8                             Poor Quality - Unreliable   \n",
       "...                                                 ...   \n",
       "3132                                        Great value   \n",
       "352                             Great product for the $   \n",
       "3821                                         Good value   \n",
       "1552                                      Great product   \n",
       "2762  Nice mixed set of AAA/AA rechargeable batterie...   \n",
       "\n",
       "                                                   desc        reviewer_name  \\\n",
       "0      All I got in terms of use out of these batter...      Jasmine Carroll   \n",
       "1      I bought these for a wall mounted magnifying ...            Ashlee M.   \n",
       "4                        Shuts off suddenly in headlamp                    T   \n",
       "7      They do charge quickly, but at what price? It...             Brent R.   \n",
       "8      I had high hopes for these batteries because ...         Christian D.   \n",
       "...                                                 ...                  ...   \n",
       "3132   I always buy these and have a supply of many ...        D. M. Bateman   \n",
       "352    Used for rechargeable speaker. Came in a coup...     Michele L. Plush   \n",
       "3821   We love these, the time till recharge on thes...    matthew a. frentz   \n",
       "1552   This batteries are excelent. 1.5v in a AA for...  Damián Jorge Daniel   \n",
       "2762   Happy to be helping the environment (even a l...        Brandi Hollis   \n",
       "\n",
       "      rating  month  year month_year  \\\n",
       "0        1.0      8  2020    2020-08   \n",
       "1        1.0      7  2020    2020-07   \n",
       "4        3.0      7  2020    2020-07   \n",
       "7        1.0      7  2020    2020-07   \n",
       "8        1.0      6  2020    2020-06   \n",
       "...      ...    ...   ...        ...   \n",
       "3132     5.0      1  2020    2020-01   \n",
       "352      5.0     12  2018    2018-12   \n",
       "3821     5.0      7  2019    2019-07   \n",
       "1552     5.0      9  2018    2018-09   \n",
       "2762     5.0     12  2019    2019-12   \n",
       "\n",
       "                                             title_desc  \\\n",
       "0     Didn't work, then worked, now don't work again...   \n",
       "1     These absolutely suck I bought these for a wal...   \n",
       "4     Not long enough battery life for a night hike ...   \n",
       "7     Energy Storage Is Less Than 1/4 Normal Batteri...   \n",
       "8     Poor Quality - Unreliable I had high hopes for...   \n",
       "...                                                 ...   \n",
       "3132  Great value I always buy these and have a supp...   \n",
       "352   Great product for the $ Used for rechargeable ...   \n",
       "3821  Good value We love these, the time till rechar...   \n",
       "1552  Great product This batteries are excelent. 1.5...   \n",
       "2762  Nice mixed set of AAA/AA rechargeable batterie...   \n",
       "\n",
       "                                               str_desc sentiment  \n",
       "0     didnt work worked dont work got term use batte...  Negative  \n",
       "1     absolutely suck bought wall mounted magnifying...  Negative  \n",
       "4     long enough battery life night hike shuts sudd...   Neutral  \n",
       "7     energy storage le 14 normal battery charge qui...  Negative  \n",
       "8     poor quality unreliable high hope battery desi...  Negative  \n",
       "...                                                 ...       ...  \n",
       "3132  great value always buy supply many size home l...  Positive  \n",
       "352   great product used rechargeable speaker came c...  Positive  \n",
       "3821  good value love time till recharge le expensiv...  Positive  \n",
       "1552  great product battery excelent 15v aa format b...  Positive  \n",
       "2762  nice mixed set aaaaa rechargeable battery char...  Positive  \n",
       "\n",
       "[2358 rows x 14 columns]"
      ]
     },
     "execution_count": 99,
     "metadata": {},
     "output_type": "execute_result"
    }
   ],
   "source": [
    "adjusted_df"
   ]
  },
  {
   "cell_type": "code",
   "execution_count": 100,
   "metadata": {},
   "outputs": [
    {
     "name": "stderr",
     "output_type": "stream",
     "text": [
      "/Users/ryankirkland/anaconda3/lib/python3.7/site-packages/pandas/core/indexing.py:966: SettingWithCopyWarning: \n",
      "A value is trying to be set on a copy of a slice from a DataFrame.\n",
      "Try using .loc[row_indexer,col_indexer] = value instead\n",
      "\n",
      "See the caveats in the documentation: https://pandas.pydata.org/pandas-docs/stable/user_guide/indexing.html#returning-a-view-versus-a-copy\n",
      "  self.obj[item] = s\n"
     ]
    },
    {
     "data": {
      "text/plain": [
       "False"
      ]
     },
     "execution_count": 100,
     "metadata": {},
     "output_type": "execute_result"
    }
   ],
   "source": [
    "adj_test_df = adjusted_df[adjusted_df['sentiment'] != 'Neutral']\n",
    "adj_test_df.loc[:,'str_desc'] = adj_test_df.loc[:,'str_desc'].fillna('null')\n",
    "adj_test_df['str_desc'].isnull().any()"
   ]
  },
  {
   "cell_type": "code",
   "execution_count": 101,
   "metadata": {},
   "outputs": [],
   "source": [
    "aX = adj_test_df['str_desc']\n",
    "ay = adj_test_df['sentiment']"
   ]
  },
  {
   "cell_type": "code",
   "execution_count": 102,
   "metadata": {},
   "outputs": [],
   "source": [
    "adj_tfidf = TfidfVectorizer()\n",
    "adj_vectorized = tfidf.fit_transform(aX)"
   ]
  },
  {
   "cell_type": "code",
   "execution_count": 110,
   "metadata": {},
   "outputs": [],
   "source": [
    "aX_train, aX_test, ay_train, ay_test = train_test_split(adj_vectorized, ay)"
   ]
  },
  {
   "cell_type": "code",
   "execution_count": 111,
   "metadata": {},
   "outputs": [],
   "source": [
    "adj_rf = RandomForestClassifier(n_estimators=100)"
   ]
  },
  {
   "cell_type": "code",
   "execution_count": 112,
   "metadata": {},
   "outputs": [
    {
     "data": {
      "text/plain": [
       "RandomForestClassifier()"
      ]
     },
     "execution_count": 112,
     "metadata": {},
     "output_type": "execute_result"
    }
   ],
   "source": [
    "adj_rf.fit(aX_train, ay_train)"
   ]
  },
  {
   "cell_type": "code",
   "execution_count": 113,
   "metadata": {},
   "outputs": [],
   "source": [
    "ay_pred_proba = adj_rf.predict_proba(aX_test)\n",
    "ay_pred = adj_rf.predict(aX_test)"
   ]
  },
  {
   "cell_type": "code",
   "execution_count": 114,
   "metadata": {},
   "outputs": [
    {
     "data": {
      "text/plain": [
       "0.8213592233009709"
      ]
     },
     "execution_count": 114,
     "metadata": {},
     "output_type": "execute_result"
    }
   ],
   "source": [
    "adj_rf.score(aX_test, ay_test)"
   ]
  },
  {
   "cell_type": "code",
   "execution_count": 64,
   "metadata": {},
   "outputs": [
    {
     "data": {
      "text/plain": [
       "MultinomialNB()"
      ]
     },
     "execution_count": 64,
     "metadata": {},
     "output_type": "execute_result"
    }
   ],
   "source": [
    "clf_nb = MultinomialNB()\n",
    "clf_nb.fit(aX_train, ay_train)"
   ]
  },
  {
   "cell_type": "code",
   "execution_count": 65,
   "metadata": {},
   "outputs": [
    {
     "data": {
      "text/plain": [
       "array(['Positive', 'Positive', 'Positive', ..., 'Positive', 'Positive',\n",
       "       'Positive'], dtype='<U8')"
      ]
     },
     "execution_count": 65,
     "metadata": {},
     "output_type": "execute_result"
    }
   ],
   "source": [
    "clf_nb.predict(X_test)"
   ]
  },
  {
   "cell_type": "code",
   "execution_count": 66,
   "metadata": {},
   "outputs": [
    {
     "data": {
      "text/plain": [
       "0.8010801080108011"
      ]
     },
     "execution_count": 66,
     "metadata": {},
     "output_type": "execute_result"
    }
   ],
   "source": [
    "clf_nb.score(X_test, y_test)"
   ]
  },
  {
   "cell_type": "code",
   "execution_count": 109,
   "metadata": {},
   "outputs": [
    {
     "data": {
      "image/png": "[encoded data removed]",
      "text/plain": [
       "<Figure size 720x720 with 2 Axes>"
      ]
     },
     "metadata": {
      "needs_background": "light"
     },
     "output_type": "display_data"
    }
   ],
   "source": [
    "adj_conf_mat = confusion_matrix(ay_test, ay_pred, labels=['Negative', 'Positive'])\n",
    "\n",
    "fig, ax = plt.subplots(figsize=(10,10))\n",
    "sns.heatmap(adj_conf_mat, annot=True, fmt='d',\n",
    "            xticklabels=['Negative Review', 'Positive Review'], yticklabels=['Negative Review', 'Positive Review'])\n",
    "plt.ylabel('Actual')\n",
    "plt.xlabel('Predicted')\n",
    "plt.show()"
   ]
  },
  {
   "cell_type": "code",
   "execution_count": 88,
   "metadata": {},
   "outputs": [
    {
     "data": {
      "text/plain": [
       "<sklearn.metrics._plot.roc_curve.RocCurveDisplay at 0x7fd35dcf7fd0>"
      ]
     },
     "execution_count": 88,
     "metadata": {},
     "output_type": "execute_result"
    },
    {
     "data": {
      "image/png": "[encoded data removed]",
      "text/plain": [
       "<Figure size 504x360 with 1 Axes>"
      ]
     },
     "metadata": {
      "needs_background": "light"
     },
     "output_type": "display_data"
    }
   ],
   "source": [
    "fig, ax = plt.subplots(figsize=(7,5))\n",
    "plot_roc_curve(adj_rf, aX_test, ay_test, ax=ax)"
   ]
  },
  {
   "cell_type": "markdown",
   "metadata": {},
   "source": [
    "### Assumptions:\n",
    " - $5 Coupon\n",
    " - 0.05 likelihood negative review comes back to redeem coupon\n",
    " - 0.28 likelihood buyer becomes repeat buyer\n",
    " - 0.014 likelihood of negative review becoming repeat buyer\n",
    " - CLTV of Repeat Buyer YTD is 56.25\n",
    " \n",
    " - Cost of True Positive: 0\n",
    " - Cost of False Positive Review: 0.78\n",
    " - Benefit of True Negative: 0.71\n",
    " - Benefit of False Negative Review: 5.60"
   ]
  },
  {
   "cell_type": "code",
   "execution_count": 215,
   "metadata": {},
   "outputs": [
    {
     "data": {
      "text/html": [
       "<div>\n",
       "<style scoped>\n",
       "    .dataframe tbody tr th:only-of-type {\n",
       "        vertical-align: middle;\n",
       "    }\n",
       "\n",
       "    .dataframe tbody tr th {\n",
       "        vertical-align: top;\n",
       "    }\n",
       "\n",
       "    .dataframe thead th {\n",
       "        text-align: right;\n",
       "    }\n",
       "</style>\n",
       "<table border=\"1\" class=\"dataframe\">\n",
       "  <thead>\n",
       "    <tr style=\"text-align: right;\">\n",
       "      <th>predicted</th>\n",
       "      <th>Negative</th>\n",
       "      <th>Positive</th>\n",
       "    </tr>\n",
       "    <tr>\n",
       "      <th>actual</th>\n",
       "      <th></th>\n",
       "      <th></th>\n",
       "    </tr>\n",
       "  </thead>\n",
       "  <tbody>\n",
       "    <tr>\n",
       "      <th>Negative</th>\n",
       "      <td>14.475</td>\n",
       "      <td>-56.25</td>\n",
       "    </tr>\n",
       "    <tr>\n",
       "      <th>Positive</th>\n",
       "      <td>-8.000</td>\n",
       "      <td>0.00</td>\n",
       "    </tr>\n",
       "  </tbody>\n",
       "</table>\n",
       "</div>"
      ],
      "text/plain": [
       "predicted  Negative  Positive\n",
       "actual                       \n",
       "Negative     14.475    -56.25\n",
       "Positive     -8.000      0.00"
      ]
     },
     "execution_count": 215,
     "metadata": {},
     "output_type": "execute_result"
    }
   ],
   "source": [
    "cb_matrix = pd.DataFrame([[48.25*0.3, -56.25], [-8., 0.]], columns=[\"Negative\", \"Positive\"], index=[\"Negative\", \"Positive\"])\n",
    "cb_matrix.index.name = 'actual'\n",
    "cb_matrix.columns.name = 'predicted'\n",
    "cb_matrix"
   ]
  },
  {
   "cell_type": "code",
   "execution_count": 216,
   "metadata": {},
   "outputs": [
    {
     "data": {
      "text/html": [
       "<div>\n",
       "<style scoped>\n",
       "    .dataframe tbody tr th:only-of-type {\n",
       "        vertical-align: middle;\n",
       "    }\n",
       "\n",
       "    .dataframe tbody tr th {\n",
       "        vertical-align: top;\n",
       "    }\n",
       "\n",
       "    .dataframe thead th {\n",
       "        text-align: right;\n",
       "    }\n",
       "</style>\n",
       "<table border=\"1\" class=\"dataframe\">\n",
       "  <thead>\n",
       "    <tr style=\"text-align: right;\">\n",
       "      <th>predicted</th>\n",
       "      <th>Negative</th>\n",
       "      <th>Positive</th>\n",
       "    </tr>\n",
       "    <tr>\n",
       "      <th>actual</th>\n",
       "      <th></th>\n",
       "      <th></th>\n",
       "    </tr>\n",
       "  </thead>\n",
       "  <tbody>\n",
       "    <tr>\n",
       "      <th>Negative</th>\n",
       "      <td>1664.625</td>\n",
       "      <td>-6356.25</td>\n",
       "    </tr>\n",
       "    <tr>\n",
       "      <th>Positive</th>\n",
       "      <td>-24.000</td>\n",
       "      <td>0.00</td>\n",
       "    </tr>\n",
       "  </tbody>\n",
       "</table>\n",
       "</div>"
      ],
      "text/plain": [
       "predicted  Negative  Positive\n",
       "actual                       \n",
       "Negative   1664.625  -6356.25\n",
       "Positive    -24.000      0.00"
      ]
     },
     "execution_count": 216,
     "metadata": {},
     "output_type": "execute_result"
    }
   ],
   "source": [
    "cb_matrix * conf_mat"
   ]
  },
  {
   "cell_type": "code",
   "execution_count": 274,
   "metadata": {},
   "outputs": [
    {
     "name": "stdout",
     "output_type": "stream",
     "text": [
      "[0.9248722  0.31323232 0.93144758 ... 0.88790476 0.52706    0.98851948]\n",
      "[0.9248722  0.31323232 0.93144758 ... 0.88790476 0.52706    0.98851948]\n",
      "[0.9248722  0.31323232 0.93144758 ... 0.88790476 0.52706    0.98851948]\n",
      "[0.9248722  0.31323232 0.93144758 ... 0.88790476 0.52706    0.98851948]\n",
      "[0.9248722  0.31323232 0.93144758 ... 0.88790476 0.52706    0.98851948]\n",
      "[0.9248722  0.31323232 0.93144758 ... 0.88790476 0.52706    0.98851948]\n",
      "[0.9248722  0.31323232 0.93144758 ... 0.88790476 0.52706    0.98851948]\n",
      "[0.9248722  0.31323232 0.93144758 ... 0.88790476 0.52706    0.98851948]\n",
      "[0.9248722  0.31323232 0.93144758 ... 0.88790476 0.52706    0.98851948]\n",
      "[0.9248722  0.31323232 0.93144758 ... 0.88790476 0.52706    0.98851948]\n",
      "[0.9248722  0.31323232 0.93144758 ... 0.88790476 0.52706    0.98851948]\n",
      "[0.9248722  0.31323232 0.93144758 ... 0.88790476 0.52706    0.98851948]\n",
      "[0.9248722  0.31323232 0.93144758 ... 0.88790476 0.52706    0.98851948]\n",
      "[0.9248722  0.31323232 0.93144758 ... 0.88790476 0.52706    0.98851948]\n",
      "[0.9248722  0.31323232 0.93144758 ... 0.88790476 0.52706    0.98851948]\n",
      "[0.9248722  0.31323232 0.93144758 ... 0.88790476 0.52706    0.98851948]\n",
      "[0.9248722  0.31323232 0.93144758 ... 0.88790476 0.52706    0.98851948]\n",
      "[0.9248722  0.31323232 0.93144758 ... 0.88790476 0.52706    0.98851948]\n",
      "[0.9248722  0.31323232 0.93144758 ... 0.88790476 0.52706    0.98851948]\n",
      "[0.9248722  0.31323232 0.93144758 ... 0.88790476 0.52706    0.98851948]\n",
      "[0.9248722  0.31323232 0.93144758 ... 0.88790476 0.52706    0.98851948]\n",
      "[0.9248722  0.31323232 0.93144758 ... 0.88790476 0.52706    0.98851948]\n",
      "[0.9248722  0.31323232 0.93144758 ... 0.88790476 0.52706    0.98851948]\n",
      "[0.9248722  0.31323232 0.93144758 ... 0.88790476 0.52706    0.98851948]\n",
      "[0.9248722  0.31323232 0.93144758 ... 0.88790476 0.52706    0.98851948]\n",
      "[0.9248722  0.31323232 0.93144758 ... 0.88790476 0.52706    0.98851948]\n",
      "[0.9248722  0.31323232 0.93144758 ... 0.88790476 0.52706    0.98851948]\n",
      "[0.9248722  0.31323232 0.93144758 ... 0.88790476 0.52706    0.98851948]\n",
      "[0.9248722  0.31323232 0.93144758 ... 0.88790476 0.52706    0.98851948]\n",
      "[0.9248722  0.31323232 0.93144758 ... 0.88790476 0.52706    0.98851948]\n",
      "[0.9248722  0.31323232 0.93144758 ... 0.88790476 0.52706    0.98851948]\n",
      "[0.9248722  0.31323232 0.93144758 ... 0.88790476 0.52706    0.98851948]\n",
      "[0.9248722  0.31323232 0.93144758 ... 0.88790476 0.52706    0.98851948]\n",
      "[0.9248722  0.31323232 0.93144758 ... 0.88790476 0.52706    0.98851948]\n",
      "[0.9248722  0.31323232 0.93144758 ... 0.88790476 0.52706    0.98851948]\n",
      "[0.9248722  0.31323232 0.93144758 ... 0.88790476 0.52706    0.98851948]\n",
      "[0.9248722  0.31323232 0.93144758 ... 0.88790476 0.52706    0.98851948]\n",
      "[0.9248722  0.31323232 0.93144758 ... 0.88790476 0.52706    0.98851948]\n",
      "[0.9248722  0.31323232 0.93144758 ... 0.88790476 0.52706    0.98851948]\n",
      "[0.9248722  0.31323232 0.93144758 ... 0.88790476 0.52706    0.98851948]\n",
      "[0.9248722  0.31323232 0.93144758 ... 0.88790476 0.52706    0.98851948]\n",
      "[0.9248722  0.31323232 0.93144758 ... 0.88790476 0.52706    0.98851948]\n",
      "[0.9248722  0.31323232 0.93144758 ... 0.88790476 0.52706    0.98851948]\n",
      "[0.9248722  0.31323232 0.93144758 ... 0.88790476 0.52706    0.98851948]\n",
      "[0.9248722  0.31323232 0.93144758 ... 0.88790476 0.52706    0.98851948]\n",
      "[0.9248722  0.31323232 0.93144758 ... 0.88790476 0.52706    0.98851948]\n",
      "[0.9248722  0.31323232 0.93144758 ... 0.88790476 0.52706    0.98851948]\n",
      "[0.9248722  0.31323232 0.93144758 ... 0.88790476 0.52706    0.98851948]\n",
      "[0.9248722  0.31323232 0.93144758 ... 0.88790476 0.52706    0.98851948]\n",
      "[0.9248722  0.31323232 0.93144758 ... 0.88790476 0.52706    0.98851948]\n",
      "[0.9248722  0.31323232 0.93144758 ... 0.88790476 0.52706    0.98851948]\n",
      "[0.9248722  0.31323232 0.93144758 ... 0.88790476 0.52706    0.98851948]\n",
      "[0.9248722  0.31323232 0.93144758 ... 0.88790476 0.52706    0.98851948]\n",
      "[0.9248722  0.31323232 0.93144758 ... 0.88790476 0.52706    0.98851948]\n",
      "[0.9248722  0.31323232 0.93144758 ... 0.88790476 0.52706    0.98851948]\n",
      "[0.9248722  0.31323232 0.93144758 ... 0.88790476 0.52706    0.98851948]\n",
      "[0.9248722  0.31323232 0.93144758 ... 0.88790476 0.52706    0.98851948]\n",
      "[0.9248722  0.31323232 0.93144758 ... 0.88790476 0.52706    0.98851948]\n",
      "[0.9248722  0.31323232 0.93144758 ... 0.88790476 0.52706    0.98851948]\n",
      "[0.9248722  0.31323232 0.93144758 ... 0.88790476 0.52706    0.98851948]\n",
      "[0.9248722  0.31323232 0.93144758 ... 0.88790476 0.52706    0.98851948]\n",
      "[0.9248722  0.31323232 0.93144758 ... 0.88790476 0.52706    0.98851948]\n",
      "[0.9248722  0.31323232 0.93144758 ... 0.88790476 0.52706    0.98851948]\n",
      "[0.9248722  0.31323232 0.93144758 ... 0.88790476 0.52706    0.98851948]\n",
      "[0.9248722  0.31323232 0.93144758 ... 0.88790476 0.52706    0.98851948]\n",
      "[0.9248722  0.31323232 0.93144758 ... 0.88790476 0.52706    0.98851948]\n",
      "[0.9248722  0.31323232 0.93144758 ... 0.88790476 0.52706    0.98851948]\n",
      "[0.9248722  0.31323232 0.93144758 ... 0.88790476 0.52706    0.98851948]\n",
      "[0.9248722  0.31323232 0.93144758 ... 0.88790476 0.52706    0.98851948]\n",
      "[0.9248722  0.31323232 0.93144758 ... 0.88790476 0.52706    0.98851948]\n",
      "[0.9248722  0.31323232 0.93144758 ... 0.88790476 0.52706    0.98851948]\n",
      "[0.9248722  0.31323232 0.93144758 ... 0.88790476 0.52706    0.98851948]\n",
      "[0.9248722  0.31323232 0.93144758 ... 0.88790476 0.52706    0.98851948]\n",
      "[0.9248722  0.31323232 0.93144758 ... 0.88790476 0.52706    0.98851948]\n",
      "[0.9248722  0.31323232 0.93144758 ... 0.88790476 0.52706    0.98851948]\n",
      "[0.9248722  0.31323232 0.93144758 ... 0.88790476 0.52706    0.98851948]\n",
      "[0.9248722  0.31323232 0.93144758 ... 0.88790476 0.52706    0.98851948]\n",
      "[0.9248722  0.31323232 0.93144758 ... 0.88790476 0.52706    0.98851948]\n",
      "[0.9248722  0.31323232 0.93144758 ... 0.88790476 0.52706    0.98851948]\n",
      "[0.9248722  0.31323232 0.93144758 ... 0.88790476 0.52706    0.98851948]\n",
      "[0.9248722  0.31323232 0.93144758 ... 0.88790476 0.52706    0.98851948]\n",
      "[0.9248722  0.31323232 0.93144758 ... 0.88790476 0.52706    0.98851948]\n",
      "[0.9248722  0.31323232 0.93144758 ... 0.88790476 0.52706    0.98851948]\n",
      "[0.9248722  0.31323232 0.93144758 ... 0.88790476 0.52706    0.98851948]\n",
      "[0.9248722  0.31323232 0.93144758 ... 0.88790476 0.52706    0.98851948]\n",
      "[0.9248722  0.31323232 0.93144758 ... 0.88790476 0.52706    0.98851948]\n",
      "[0.9248722  0.31323232 0.93144758 ... 0.88790476 0.52706    0.98851948]\n",
      "[0.9248722  0.31323232 0.93144758 ... 0.88790476 0.52706    0.98851948]\n",
      "[0.9248722  0.31323232 0.93144758 ... 0.88790476 0.52706    0.98851948]\n",
      "[0.9248722  0.31323232 0.93144758 ... 0.88790476 0.52706    0.98851948]\n",
      "[0.9248722  0.31323232 0.93144758 ... 0.88790476 0.52706    0.98851948]\n",
      "[0.9248722  0.31323232 0.93144758 ... 0.88790476 0.52706    0.98851948]\n",
      "[0.9248722  0.31323232 0.93144758 ... 0.88790476 0.52706    0.98851948]\n",
      "[0.9248722  0.31323232 0.93144758 ... 0.88790476 0.52706    0.98851948]\n",
      "[0.9248722  0.31323232 0.93144758 ... 0.88790476 0.52706    0.98851948]\n",
      "[0.9248722  0.31323232 0.93144758 ... 0.88790476 0.52706    0.98851948]\n",
      "[0.9248722  0.31323232 0.93144758 ... 0.88790476 0.52706    0.98851948]\n",
      "[0.9248722  0.31323232 0.93144758 ... 0.88790476 0.52706    0.98851948]\n",
      "[0.9248722  0.31323232 0.93144758 ... 0.88790476 0.52706    0.98851948]\n",
      "[0.9248722  0.31323232 0.93144758 ... 0.88790476 0.52706    0.98851948]\n",
      "0.79\n"
     ]
    },
    {
     "data": {
      "image/png": "[encoded data removed]",
      "text/plain": [
       "<Figure size 864x720 with 1 Axes>"
      ]
     },
     "metadata": {
      "needs_background": "light"
     },
     "output_type": "display_data"
    }
   ],
   "source": [
    "def calculate_payout(cb_matrix, model, X, threshold):\n",
    "    return (confusion_matrix_(model, X, threshold) * cb_matrix).values.sum()\n",
    "\n",
    "thresholds = np.arange(0.0, 1.0, 0.01)\n",
    "profits = []\n",
    "\n",
    "for threshold in thresholds:\n",
    "    profits.append(calculate_payout(cb_matrix, rf, X_test, threshold))\n",
    "\n",
    "print(thresholds[np.argmax(profits)])\n",
    "fig, ax = plt.subplots(figsize=(12,10))\n",
    "ax.plot(thresholds, profits)\n",
    "ax.set_xlabel('thresholds')\n",
    "ax.set_ylabel('profits')\n",
    "ax.set_title('Profit Curve')\n",
    "plt.savefig('../img/profit_curve.png');"
   ]
  },
  {
   "cell_type": "code",
   "execution_count": null,
   "metadata": {},
   "outputs": [],
   "source": []
  }
 ],
 "metadata": {
  "kernelspec": {
   "display_name": "Python 3",
   "language": "python",
   "name": "python3"
  },
  "language_info": {
   "codemirror_mode": {
    "name": "ipython",
    "version": 3
   },
   "file_extension": ".py",
   "mimetype": "text/x-python",
   "name": "python",
   "nbconvert_exporter": "python",
   "pygments_lexer": "ipython3",
   "version": "3.7.3"
  }
 },
 "nbformat": 4,
 "nbformat_minor": 2
}
